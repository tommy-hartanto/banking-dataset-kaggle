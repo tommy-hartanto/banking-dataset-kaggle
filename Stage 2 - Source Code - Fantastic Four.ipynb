{
  "cells": [
    {
      "cell_type": "markdown",
      "metadata": {
        "id": "view-in-github",
        "colab_type": "text"
      },
      "source": [
        "<a href=\"https://colab.research.google.com/github/tommy-hartanto/rakamin/blob/main/Stage%202%20-%20Source%20Code%20-%20Fantastic%20Four.ipynb\" target=\"_parent\"><img src=\"https://colab.research.google.com/assets/colab-badge.svg\" alt=\"Open In Colab\"/></a>"
      ]
    },
    {
      "cell_type": "code",
      "execution_count": 1,
      "id": "ad14c0b6-6068-48e4-9390-6e2f04eb97a7",
      "metadata": {
        "colab": {
          "base_uri": "https://localhost:8080/"
        },
        "id": "ad14c0b6-6068-48e4-9390-6e2f04eb97a7",
        "outputId": "6ba44ed5-9de9-46ad-dfb4-3dcc2512db9c"
      },
      "outputs": [
        {
          "output_type": "stream",
          "name": "stdout",
          "text": [
            "numpy version :  1.21.6\n",
            "pandas version :  1.3.5\n",
            "seaborn version :  0.11.2\n"
          ]
        }
      ],
      "source": [
        "import pandas as pd\n",
        "import numpy as np\n",
        "import matplotlib.pyplot as plt\n",
        "import seaborn as sns\n",
        "import warnings\n",
        "from scipy import stats\n",
        "from sklearn.preprocessing import MinMaxScaler, StandardScaler\n",
        "warnings.filterwarnings('ignore')\n",
        "import sys\n",
        "from imblearn import under_sampling, over_sampling\n",
        "\n",
        "print('numpy version : ',np.__version__)\n",
        "print('pandas version : ',pd.__version__)\n",
        "print('seaborn version : ',sns.__version__)"
      ]
    },
    {
      "cell_type": "code",
      "execution_count": 2,
      "id": "22bb7345-8a9e-4e9f-b9b5-cbf65a160137",
      "metadata": {
        "colab": {
          "base_uri": "https://localhost:8080/",
          "height": 145
        },
        "id": "22bb7345-8a9e-4e9f-b9b5-cbf65a160137",
        "outputId": "df59dd76-0a5d-4cea-a0d4-1c3892ecf08d"
      },
      "outputs": [
        {
          "output_type": "execute_result",
          "data": {
            "text/plain": [
              "   age         job  marital education default  balance housing loan  contact  \\\n",
              "0   58  management  married  tertiary      no     2143     yes   no  unknown   \n",
              "\n",
              "   day month  duration  campaign  pdays  previous poutcome   y  \n",
              "0    5   may       261         1     -1         0  unknown  no  "
            ],
            "text/html": [
              "\n",
              "  <div id=\"df-062cdfa9-a13f-4ae2-b191-a1595bcdc8af\">\n",
              "    <div class=\"colab-df-container\">\n",
              "      <div>\n",
              "<style scoped>\n",
              "    .dataframe tbody tr th:only-of-type {\n",
              "        vertical-align: middle;\n",
              "    }\n",
              "\n",
              "    .dataframe tbody tr th {\n",
              "        vertical-align: top;\n",
              "    }\n",
              "\n",
              "    .dataframe thead th {\n",
              "        text-align: right;\n",
              "    }\n",
              "</style>\n",
              "<table border=\"1\" class=\"dataframe\">\n",
              "  <thead>\n",
              "    <tr style=\"text-align: right;\">\n",
              "      <th></th>\n",
              "      <th>age</th>\n",
              "      <th>job</th>\n",
              "      <th>marital</th>\n",
              "      <th>education</th>\n",
              "      <th>default</th>\n",
              "      <th>balance</th>\n",
              "      <th>housing</th>\n",
              "      <th>loan</th>\n",
              "      <th>contact</th>\n",
              "      <th>day</th>\n",
              "      <th>month</th>\n",
              "      <th>duration</th>\n",
              "      <th>campaign</th>\n",
              "      <th>pdays</th>\n",
              "      <th>previous</th>\n",
              "      <th>poutcome</th>\n",
              "      <th>y</th>\n",
              "    </tr>\n",
              "  </thead>\n",
              "  <tbody>\n",
              "    <tr>\n",
              "      <th>0</th>\n",
              "      <td>58</td>\n",
              "      <td>management</td>\n",
              "      <td>married</td>\n",
              "      <td>tertiary</td>\n",
              "      <td>no</td>\n",
              "      <td>2143</td>\n",
              "      <td>yes</td>\n",
              "      <td>no</td>\n",
              "      <td>unknown</td>\n",
              "      <td>5</td>\n",
              "      <td>may</td>\n",
              "      <td>261</td>\n",
              "      <td>1</td>\n",
              "      <td>-1</td>\n",
              "      <td>0</td>\n",
              "      <td>unknown</td>\n",
              "      <td>no</td>\n",
              "    </tr>\n",
              "  </tbody>\n",
              "</table>\n",
              "</div>\n",
              "      <button class=\"colab-df-convert\" onclick=\"convertToInteractive('df-062cdfa9-a13f-4ae2-b191-a1595bcdc8af')\"\n",
              "              title=\"Convert this dataframe to an interactive table.\"\n",
              "              style=\"display:none;\">\n",
              "        \n",
              "  <svg xmlns=\"http://www.w3.org/2000/svg\" height=\"24px\"viewBox=\"0 0 24 24\"\n",
              "       width=\"24px\">\n",
              "    <path d=\"M0 0h24v24H0V0z\" fill=\"none\"/>\n",
              "    <path d=\"M18.56 5.44l.94 2.06.94-2.06 2.06-.94-2.06-.94-.94-2.06-.94 2.06-2.06.94zm-11 1L8.5 8.5l.94-2.06 2.06-.94-2.06-.94L8.5 2.5l-.94 2.06-2.06.94zm10 10l.94 2.06.94-2.06 2.06-.94-2.06-.94-.94-2.06-.94 2.06-2.06.94z\"/><path d=\"M17.41 7.96l-1.37-1.37c-.4-.4-.92-.59-1.43-.59-.52 0-1.04.2-1.43.59L10.3 9.45l-7.72 7.72c-.78.78-.78 2.05 0 2.83L4 21.41c.39.39.9.59 1.41.59.51 0 1.02-.2 1.41-.59l7.78-7.78 2.81-2.81c.8-.78.8-2.07 0-2.86zM5.41 20L4 18.59l7.72-7.72 1.47 1.35L5.41 20z\"/>\n",
              "  </svg>\n",
              "      </button>\n",
              "      \n",
              "  <style>\n",
              "    .colab-df-container {\n",
              "      display:flex;\n",
              "      flex-wrap:wrap;\n",
              "      gap: 12px;\n",
              "    }\n",
              "\n",
              "    .colab-df-convert {\n",
              "      background-color: #E8F0FE;\n",
              "      border: none;\n",
              "      border-radius: 50%;\n",
              "      cursor: pointer;\n",
              "      display: none;\n",
              "      fill: #1967D2;\n",
              "      height: 32px;\n",
              "      padding: 0 0 0 0;\n",
              "      width: 32px;\n",
              "    }\n",
              "\n",
              "    .colab-df-convert:hover {\n",
              "      background-color: #E2EBFA;\n",
              "      box-shadow: 0px 1px 2px rgba(60, 64, 67, 0.3), 0px 1px 3px 1px rgba(60, 64, 67, 0.15);\n",
              "      fill: #174EA6;\n",
              "    }\n",
              "\n",
              "    [theme=dark] .colab-df-convert {\n",
              "      background-color: #3B4455;\n",
              "      fill: #D2E3FC;\n",
              "    }\n",
              "\n",
              "    [theme=dark] .colab-df-convert:hover {\n",
              "      background-color: #434B5C;\n",
              "      box-shadow: 0px 1px 3px 1px rgba(0, 0, 0, 0.15);\n",
              "      filter: drop-shadow(0px 1px 2px rgba(0, 0, 0, 0.3));\n",
              "      fill: #FFFFFF;\n",
              "    }\n",
              "  </style>\n",
              "\n",
              "      <script>\n",
              "        const buttonEl =\n",
              "          document.querySelector('#df-062cdfa9-a13f-4ae2-b191-a1595bcdc8af button.colab-df-convert');\n",
              "        buttonEl.style.display =\n",
              "          google.colab.kernel.accessAllowed ? 'block' : 'none';\n",
              "\n",
              "        async function convertToInteractive(key) {\n",
              "          const element = document.querySelector('#df-062cdfa9-a13f-4ae2-b191-a1595bcdc8af');\n",
              "          const dataTable =\n",
              "            await google.colab.kernel.invokeFunction('convertToInteractive',\n",
              "                                                     [key], {});\n",
              "          if (!dataTable) return;\n",
              "\n",
              "          const docLinkHtml = 'Like what you see? Visit the ' +\n",
              "            '<a target=\"_blank\" href=https://colab.research.google.com/notebooks/data_table.ipynb>data table notebook</a>'\n",
              "            + ' to learn more about interactive tables.';\n",
              "          element.innerHTML = '';\n",
              "          dataTable['output_type'] = 'display_data';\n",
              "          await google.colab.output.renderOutput(dataTable, element);\n",
              "          const docLink = document.createElement('div');\n",
              "          docLink.innerHTML = docLinkHtml;\n",
              "          element.appendChild(docLink);\n",
              "        }\n",
              "      </script>\n",
              "    </div>\n",
              "  </div>\n",
              "  "
            ]
          },
          "metadata": {},
          "execution_count": 2
        }
      ],
      "source": [
        "df = pd.read_csv('drive/MyDrive/Colab Notebooks/train.csv', sep=';')\n",
        "df.head(1)"
      ]
    },
    {
      "cell_type": "code",
      "execution_count": 3,
      "id": "efae1d51-0b68-4f30-9978-5c956d1f7f1b",
      "metadata": {
        "id": "efae1d51-0b68-4f30-9978-5c956d1f7f1b",
        "outputId": "31fbb643-bfbc-47ed-e1c7-2cde7c99b784",
        "colab": {
          "base_uri": "https://localhost:8080/"
        }
      },
      "outputs": [
        {
          "output_type": "stream",
          "name": "stdout",
          "text": [
            "<class 'pandas.core.frame.DataFrame'>\n",
            "RangeIndex: 45211 entries, 0 to 45210\n",
            "Data columns (total 17 columns):\n",
            " #   Column     Non-Null Count  Dtype \n",
            "---  ------     --------------  ----- \n",
            " 0   age        45211 non-null  int64 \n",
            " 1   job        45211 non-null  object\n",
            " 2   marital    45211 non-null  object\n",
            " 3   education  45211 non-null  object\n",
            " 4   default    45211 non-null  object\n",
            " 5   balance    45211 non-null  int64 \n",
            " 6   housing    45211 non-null  object\n",
            " 7   loan       45211 non-null  object\n",
            " 8   contact    45211 non-null  object\n",
            " 9   day        45211 non-null  int64 \n",
            " 10  month      45211 non-null  object\n",
            " 11  duration   45211 non-null  int64 \n",
            " 12  campaign   45211 non-null  int64 \n",
            " 13  pdays      45211 non-null  int64 \n",
            " 14  previous   45211 non-null  int64 \n",
            " 15  poutcome   45211 non-null  object\n",
            " 16  y          45211 non-null  object\n",
            "dtypes: int64(7), object(10)\n",
            "memory usage: 5.9+ MB\n"
          ]
        }
      ],
      "source": [
        "df.info()"
      ]
    },
    {
      "cell_type": "code",
      "execution_count": 4,
      "id": "e0c2eb64-c031-44fe-b607-671ee65c21b8",
      "metadata": {
        "id": "e0c2eb64-c031-44fe-b607-671ee65c21b8",
        "outputId": "d1f56bd3-edc6-4e71-e766-fbbd39a3a07a",
        "colab": {
          "base_uri": "https://localhost:8080/",
          "height": 300
        }
      },
      "outputs": [
        {
          "output_type": "execute_result",
          "data": {
            "text/plain": [
              "                age        balance           day      duration      campaign  \\\n",
              "count  45211.000000   45211.000000  45211.000000  45211.000000  45211.000000   \n",
              "mean      40.936210    1362.272058     15.806419    258.163080      2.763841   \n",
              "std       10.618762    3044.765829      8.322476    257.527812      3.098021   \n",
              "min       18.000000   -8019.000000      1.000000      0.000000      1.000000   \n",
              "25%       33.000000      72.000000      8.000000    103.000000      1.000000   \n",
              "50%       39.000000     448.000000     16.000000    180.000000      2.000000   \n",
              "75%       48.000000    1428.000000     21.000000    319.000000      3.000000   \n",
              "max       95.000000  102127.000000     31.000000   4918.000000     63.000000   \n",
              "\n",
              "              pdays      previous  \n",
              "count  45211.000000  45211.000000  \n",
              "mean      40.197828      0.580323  \n",
              "std      100.128746      2.303441  \n",
              "min       -1.000000      0.000000  \n",
              "25%       -1.000000      0.000000  \n",
              "50%       -1.000000      0.000000  \n",
              "75%       -1.000000      0.000000  \n",
              "max      871.000000    275.000000  "
            ],
            "text/html": [
              "\n",
              "  <div id=\"df-f466dcbc-c83d-48c7-8b13-3076c2d19ab3\">\n",
              "    <div class=\"colab-df-container\">\n",
              "      <div>\n",
              "<style scoped>\n",
              "    .dataframe tbody tr th:only-of-type {\n",
              "        vertical-align: middle;\n",
              "    }\n",
              "\n",
              "    .dataframe tbody tr th {\n",
              "        vertical-align: top;\n",
              "    }\n",
              "\n",
              "    .dataframe thead th {\n",
              "        text-align: right;\n",
              "    }\n",
              "</style>\n",
              "<table border=\"1\" class=\"dataframe\">\n",
              "  <thead>\n",
              "    <tr style=\"text-align: right;\">\n",
              "      <th></th>\n",
              "      <th>age</th>\n",
              "      <th>balance</th>\n",
              "      <th>day</th>\n",
              "      <th>duration</th>\n",
              "      <th>campaign</th>\n",
              "      <th>pdays</th>\n",
              "      <th>previous</th>\n",
              "    </tr>\n",
              "  </thead>\n",
              "  <tbody>\n",
              "    <tr>\n",
              "      <th>count</th>\n",
              "      <td>45211.000000</td>\n",
              "      <td>45211.000000</td>\n",
              "      <td>45211.000000</td>\n",
              "      <td>45211.000000</td>\n",
              "      <td>45211.000000</td>\n",
              "      <td>45211.000000</td>\n",
              "      <td>45211.000000</td>\n",
              "    </tr>\n",
              "    <tr>\n",
              "      <th>mean</th>\n",
              "      <td>40.936210</td>\n",
              "      <td>1362.272058</td>\n",
              "      <td>15.806419</td>\n",
              "      <td>258.163080</td>\n",
              "      <td>2.763841</td>\n",
              "      <td>40.197828</td>\n",
              "      <td>0.580323</td>\n",
              "    </tr>\n",
              "    <tr>\n",
              "      <th>std</th>\n",
              "      <td>10.618762</td>\n",
              "      <td>3044.765829</td>\n",
              "      <td>8.322476</td>\n",
              "      <td>257.527812</td>\n",
              "      <td>3.098021</td>\n",
              "      <td>100.128746</td>\n",
              "      <td>2.303441</td>\n",
              "    </tr>\n",
              "    <tr>\n",
              "      <th>min</th>\n",
              "      <td>18.000000</td>\n",
              "      <td>-8019.000000</td>\n",
              "      <td>1.000000</td>\n",
              "      <td>0.000000</td>\n",
              "      <td>1.000000</td>\n",
              "      <td>-1.000000</td>\n",
              "      <td>0.000000</td>\n",
              "    </tr>\n",
              "    <tr>\n",
              "      <th>25%</th>\n",
              "      <td>33.000000</td>\n",
              "      <td>72.000000</td>\n",
              "      <td>8.000000</td>\n",
              "      <td>103.000000</td>\n",
              "      <td>1.000000</td>\n",
              "      <td>-1.000000</td>\n",
              "      <td>0.000000</td>\n",
              "    </tr>\n",
              "    <tr>\n",
              "      <th>50%</th>\n",
              "      <td>39.000000</td>\n",
              "      <td>448.000000</td>\n",
              "      <td>16.000000</td>\n",
              "      <td>180.000000</td>\n",
              "      <td>2.000000</td>\n",
              "      <td>-1.000000</td>\n",
              "      <td>0.000000</td>\n",
              "    </tr>\n",
              "    <tr>\n",
              "      <th>75%</th>\n",
              "      <td>48.000000</td>\n",
              "      <td>1428.000000</td>\n",
              "      <td>21.000000</td>\n",
              "      <td>319.000000</td>\n",
              "      <td>3.000000</td>\n",
              "      <td>-1.000000</td>\n",
              "      <td>0.000000</td>\n",
              "    </tr>\n",
              "    <tr>\n",
              "      <th>max</th>\n",
              "      <td>95.000000</td>\n",
              "      <td>102127.000000</td>\n",
              "      <td>31.000000</td>\n",
              "      <td>4918.000000</td>\n",
              "      <td>63.000000</td>\n",
              "      <td>871.000000</td>\n",
              "      <td>275.000000</td>\n",
              "    </tr>\n",
              "  </tbody>\n",
              "</table>\n",
              "</div>\n",
              "      <button class=\"colab-df-convert\" onclick=\"convertToInteractive('df-f466dcbc-c83d-48c7-8b13-3076c2d19ab3')\"\n",
              "              title=\"Convert this dataframe to an interactive table.\"\n",
              "              style=\"display:none;\">\n",
              "        \n",
              "  <svg xmlns=\"http://www.w3.org/2000/svg\" height=\"24px\"viewBox=\"0 0 24 24\"\n",
              "       width=\"24px\">\n",
              "    <path d=\"M0 0h24v24H0V0z\" fill=\"none\"/>\n",
              "    <path d=\"M18.56 5.44l.94 2.06.94-2.06 2.06-.94-2.06-.94-.94-2.06-.94 2.06-2.06.94zm-11 1L8.5 8.5l.94-2.06 2.06-.94-2.06-.94L8.5 2.5l-.94 2.06-2.06.94zm10 10l.94 2.06.94-2.06 2.06-.94-2.06-.94-.94-2.06-.94 2.06-2.06.94z\"/><path d=\"M17.41 7.96l-1.37-1.37c-.4-.4-.92-.59-1.43-.59-.52 0-1.04.2-1.43.59L10.3 9.45l-7.72 7.72c-.78.78-.78 2.05 0 2.83L4 21.41c.39.39.9.59 1.41.59.51 0 1.02-.2 1.41-.59l7.78-7.78 2.81-2.81c.8-.78.8-2.07 0-2.86zM5.41 20L4 18.59l7.72-7.72 1.47 1.35L5.41 20z\"/>\n",
              "  </svg>\n",
              "      </button>\n",
              "      \n",
              "  <style>\n",
              "    .colab-df-container {\n",
              "      display:flex;\n",
              "      flex-wrap:wrap;\n",
              "      gap: 12px;\n",
              "    }\n",
              "\n",
              "    .colab-df-convert {\n",
              "      background-color: #E8F0FE;\n",
              "      border: none;\n",
              "      border-radius: 50%;\n",
              "      cursor: pointer;\n",
              "      display: none;\n",
              "      fill: #1967D2;\n",
              "      height: 32px;\n",
              "      padding: 0 0 0 0;\n",
              "      width: 32px;\n",
              "    }\n",
              "\n",
              "    .colab-df-convert:hover {\n",
              "      background-color: #E2EBFA;\n",
              "      box-shadow: 0px 1px 2px rgba(60, 64, 67, 0.3), 0px 1px 3px 1px rgba(60, 64, 67, 0.15);\n",
              "      fill: #174EA6;\n",
              "    }\n",
              "\n",
              "    [theme=dark] .colab-df-convert {\n",
              "      background-color: #3B4455;\n",
              "      fill: #D2E3FC;\n",
              "    }\n",
              "\n",
              "    [theme=dark] .colab-df-convert:hover {\n",
              "      background-color: #434B5C;\n",
              "      box-shadow: 0px 1px 3px 1px rgba(0, 0, 0, 0.15);\n",
              "      filter: drop-shadow(0px 1px 2px rgba(0, 0, 0, 0.3));\n",
              "      fill: #FFFFFF;\n",
              "    }\n",
              "  </style>\n",
              "\n",
              "      <script>\n",
              "        const buttonEl =\n",
              "          document.querySelector('#df-f466dcbc-c83d-48c7-8b13-3076c2d19ab3 button.colab-df-convert');\n",
              "        buttonEl.style.display =\n",
              "          google.colab.kernel.accessAllowed ? 'block' : 'none';\n",
              "\n",
              "        async function convertToInteractive(key) {\n",
              "          const element = document.querySelector('#df-f466dcbc-c83d-48c7-8b13-3076c2d19ab3');\n",
              "          const dataTable =\n",
              "            await google.colab.kernel.invokeFunction('convertToInteractive',\n",
              "                                                     [key], {});\n",
              "          if (!dataTable) return;\n",
              "\n",
              "          const docLinkHtml = 'Like what you see? Visit the ' +\n",
              "            '<a target=\"_blank\" href=https://colab.research.google.com/notebooks/data_table.ipynb>data table notebook</a>'\n",
              "            + ' to learn more about interactive tables.';\n",
              "          element.innerHTML = '';\n",
              "          dataTable['output_type'] = 'display_data';\n",
              "          await google.colab.output.renderOutput(dataTable, element);\n",
              "          const docLink = document.createElement('div');\n",
              "          docLink.innerHTML = docLinkHtml;\n",
              "          element.appendChild(docLink);\n",
              "        }\n",
              "      </script>\n",
              "    </div>\n",
              "  </div>\n",
              "  "
            ]
          },
          "metadata": {},
          "execution_count": 4
        }
      ],
      "source": [
        "df.describe()"
      ]
    },
    {
      "cell_type": "markdown",
      "id": "83d1979f-3553-4905-9898-25aea0d96297",
      "metadata": {
        "id": "83d1979f-3553-4905-9898-25aea0d96297"
      },
      "source": [
        "# 1. Data Cleansing"
      ]
    },
    {
      "cell_type": "markdown",
      "id": "c827a686-0a1f-41ad-876d-5f7cb7e0a73c",
      "metadata": {
        "id": "c827a686-0a1f-41ad-876d-5f7cb7e0a73c"
      },
      "source": [
        "## A. Handle Missing Values"
      ]
    },
    {
      "cell_type": "code",
      "execution_count": 5,
      "id": "9899071d-9ec6-45d6-a89f-39c8844c8c46",
      "metadata": {
        "id": "9899071d-9ec6-45d6-a89f-39c8844c8c46",
        "outputId": "f46b4a24-e9f2-431c-ca58-12c68a99df1b",
        "colab": {
          "base_uri": "https://localhost:8080/"
        }
      },
      "outputs": [
        {
          "output_type": "execute_result",
          "data": {
            "text/plain": [
              "age          0\n",
              "job          0\n",
              "marital      0\n",
              "education    0\n",
              "default      0\n",
              "balance      0\n",
              "housing      0\n",
              "loan         0\n",
              "contact      0\n",
              "day          0\n",
              "month        0\n",
              "duration     0\n",
              "campaign     0\n",
              "pdays        0\n",
              "previous     0\n",
              "poutcome     0\n",
              "y            0\n",
              "dtype: int64"
            ]
          },
          "metadata": {},
          "execution_count": 5
        }
      ],
      "source": [
        "df.isna().sum()"
      ]
    },
    {
      "cell_type": "markdown",
      "id": "ea98c3a1-883c-44df-959e-fb2cf204f051",
      "metadata": {
        "id": "ea98c3a1-883c-44df-959e-fb2cf204f051"
      },
      "source": [
        "Karena tidak ada missing, maka tidak ada tindak lanjut"
      ]
    },
    {
      "cell_type": "markdown",
      "id": "77ba7c1f-949b-4316-88e3-763e401273bc",
      "metadata": {
        "id": "77ba7c1f-949b-4316-88e3-763e401273bc"
      },
      "source": [
        "## B. Handle Duplicated Data"
      ]
    },
    {
      "cell_type": "code",
      "execution_count": 6,
      "id": "ce1e3753-cd66-4f5b-86a9-bf198797df8f",
      "metadata": {
        "id": "ce1e3753-cd66-4f5b-86a9-bf198797df8f",
        "outputId": "2c3977a8-6029-4550-b572-6c8b27fbae2b",
        "colab": {
          "base_uri": "https://localhost:8080/"
        }
      },
      "outputs": [
        {
          "output_type": "execute_result",
          "data": {
            "text/plain": [
              "0"
            ]
          },
          "metadata": {},
          "execution_count": 6
        }
      ],
      "source": [
        "df.duplicated().sum()"
      ]
    },
    {
      "cell_type": "markdown",
      "id": "598fe842-7a39-40ed-86e2-4cb8a1addbc0",
      "metadata": {
        "id": "598fe842-7a39-40ed-86e2-4cb8a1addbc0"
      },
      "source": [
        "Tidak ditemukan adanya data terduplikasi"
      ]
    },
    {
      "cell_type": "markdown",
      "id": "5869c784-c90e-45af-9aa5-e91b4275dfc8",
      "metadata": {
        "id": "5869c784-c90e-45af-9aa5-e91b4275dfc8"
      },
      "source": [
        "## C. Handle Outliers"
      ]
    },
    {
      "cell_type": "code",
      "execution_count": 7,
      "id": "18115ae9",
      "metadata": {
        "id": "18115ae9",
        "tags": []
      },
      "outputs": [],
      "source": [
        "# pengelompokan kolom berdasarkan jenisnya\n",
        "nums = ['age', 'balance', 'day', 'duration', 'campaign', 'pdays', 'previous']\n",
        "cats = ['job', 'marital', 'education', 'default', 'housing', 'loan', 'contact', 'month', 'poutcome', 'y']"
      ]
    },
    {
      "cell_type": "code",
      "execution_count": 8,
      "id": "8ec8d8fa",
      "metadata": {
        "id": "8ec8d8fa",
        "outputId": "551a8509-3194-4688-9e07-73742278dc8b",
        "colab": {
          "base_uri": "https://localhost:8080/",
          "height": 369
        }
      },
      "outputs": [
        {
          "output_type": "display_data",
          "data": {
            "text/plain": [
              "<Figure size 720x360 with 7 Axes>"
            ],
            "image/png": "[encoded data removed]"
          },
          "metadata": {
            "needs_background": "light"
          }
        }
      ],
      "source": [
        "plt.figure(figsize=(10,5))\n",
        "features = nums\n",
        "for i in range(0, len(features)):\n",
        "    plt.subplot(1, len(features), i+1)\n",
        "    sns.boxplot(y=df[features[i]], color='green', orient='v')\n",
        "    plt.tight_layout()"
      ]
    },
    {
      "cell_type": "markdown",
      "id": "aa23ed17-1ff9-4abd-88f3-e294ecdb0005",
      "metadata": {
        "id": "aa23ed17-1ff9-4abd-88f3-e294ecdb0005"
      },
      "source": [
        "### Column 'age'"
      ]
    },
    {
      "cell_type": "code",
      "execution_count": 9,
      "id": "8c699d0c-5365-45e6-bf1b-a5f3589fc0af",
      "metadata": {
        "id": "8c699d0c-5365-45e6-bf1b-a5f3589fc0af",
        "outputId": "3849806e-0a14-48e8-c987-69847e86c02a",
        "colab": {
          "base_uri": "https://localhost:8080/",
          "height": 297
        }
      },
      "outputs": [
        {
          "output_type": "execute_result",
          "data": {
            "text/plain": [
              "<matplotlib.axes._subplots.AxesSubplot at 0x7f3c10ec4110>"
            ]
          },
          "metadata": {},
          "execution_count": 9
        },
        {
          "output_type": "display_data",
          "data": {
            "text/plain": [
              "<Figure size 432x288 with 1 Axes>"
            ],
            "image/png": "[encoded data removed]"
          },
          "metadata": {
            "needs_background": "light"
          }
        }
      ],
      "source": [
        "sns.kdeplot(np.log(df['age']))"
      ]
    },
    {
      "cell_type": "code",
      "execution_count": 10,
      "id": "1cb8478e-0599-4822-923b-e7eec6ea00b3",
      "metadata": {
        "id": "1cb8478e-0599-4822-923b-e7eec6ea00b3",
        "outputId": "089c46d9-c56c-49a0-8d43-dc487d10c667",
        "colab": {
          "base_uri": "https://localhost:8080/"
        }
      },
      "outputs": [
        {
          "output_type": "stream",
          "name": "stdout",
          "text": [
            "Jumlah baris sebelum memfilter outlier kolom age: 45211\n",
            "Jumlah baris setelah memfilter outlier kolom age dengan z-score: 44830 atau berkurang 0.84%\n"
          ]
        }
      ],
      "source": [
        "age_zscore = np.abs(stats.zscore(df['age']))\n",
        "age_filter = (age_zscore < 3)\n",
        "\n",
        "len_df = int(len(df))\n",
        "print(f'Jumlah baris sebelum memfilter outlier kolom age: {len_df}')\n",
        "df = df[age_filter]\n",
        "print(f'Jumlah baris setelah memfilter outlier kolom age dengan z-score: {len(df)} atau berkurang {round((len_df - df.shape[0])/45211*100, 2)}%')"
      ]
    },
    {
      "cell_type": "markdown",
      "id": "d79ecba1-f7b0-433c-bba3-9a9b0f28970c",
      "metadata": {
        "id": "d79ecba1-f7b0-433c-bba3-9a9b0f28970c"
      },
      "source": [
        "### Column 'balance'"
      ]
    },
    {
      "cell_type": "code",
      "execution_count": 11,
      "id": "77eb8d74-d255-490b-9d03-f02227f06f89",
      "metadata": {
        "id": "77eb8d74-d255-490b-9d03-f02227f06f89",
        "outputId": "8f38ac6a-9e5b-4585-8d17-8b92851dcc83",
        "colab": {
          "base_uri": "https://localhost:8080/",
          "height": 225
        }
      },
      "outputs": [
        {
          "output_type": "display_data",
          "data": {
            "text/plain": [
              "<Figure size 720x216 with 2 Axes>"
            ],
            "image/png": "[encoded data removed]"
          },
          "metadata": {
            "needs_background": "light"
          }
        }
      ],
      "source": [
        "#keadaan awal\n",
        "plt.figure(figsize=(10,3))\n",
        "plt.subplot(1, 2, 1)\n",
        "sns.kdeplot(df['balance'])\n",
        "plt.subplot(1, 2, 2)\n",
        "sns.boxplot(df['balance'])\n",
        "plt.tight_layout()"
      ]
    },
    {
      "cell_type": "code",
      "execution_count": 12,
      "id": "943edcba-6ef3-4cf8-8767-4f0d41e916c7",
      "metadata": {
        "id": "943edcba-6ef3-4cf8-8767-4f0d41e916c7",
        "outputId": "20f71e6a-5c0b-42a9-d19c-5c16545a6660",
        "colab": {
          "base_uri": "https://localhost:8080/"
        }
      },
      "outputs": [
        {
          "output_type": "stream",
          "name": "stdout",
          "text": [
            "Jumlah baris sebelum memfilter outlier kolom balance: 44830\n",
            "Jumlah baris setelah memfilter outlier kolom balance dengan IQR: 40121 atau berkurang 10.42%\n"
          ]
        }
      ],
      "source": [
        "#Menggunakan IQR karena terdapat dua puncak \n",
        "Q1 = df['balance'].quantile(0.25) \n",
        "Q3 = df['balance'].quantile(0.75)\n",
        "IQR = Q3 - Q1\n",
        "low_limit = Q1 - (1.5 * IQR)\n",
        "high_limit = Q3 + (1.5 * IQR)\n",
        "filtered_entries = ((df['balance'] >= low_limit) & (df['balance'] <= high_limit))\n",
        "\n",
        "len_df = int(len(df))\n",
        "print(f'Jumlah baris sebelum memfilter outlier kolom balance: {len_df}')\n",
        "df = df[filtered_entries]\n",
        "print(f'Jumlah baris setelah memfilter outlier kolom balance dengan IQR: {len(df)} atau berkurang {round((len_df - df.shape[0])/45211*100, 2)}%')"
      ]
    },
    {
      "cell_type": "code",
      "execution_count": 13,
      "id": "3e30d7b4-f9a1-468c-9cd5-bd74b8473911",
      "metadata": {
        "id": "3e30d7b4-f9a1-468c-9cd5-bd74b8473911",
        "outputId": "e10cc0d3-aa99-4417-f96b-d187c4715c46",
        "colab": {
          "base_uri": "https://localhost:8080/",
          "height": 225
        }
      },
      "outputs": [
        {
          "output_type": "display_data",
          "data": {
            "text/plain": [
              "<Figure size 720x216 with 2 Axes>"
            ],
            "image/png": "[encoded data removed]"
          },
          "metadata": {
            "needs_background": "light"
          }
        }
      ],
      "source": [
        "#sesudah\n",
        "plt.figure(figsize=(10,3))\n",
        "plt.subplot(1, 2, 1)\n",
        "sns.kdeplot(df['balance'])\n",
        "plt.subplot(1, 2, 2)\n",
        "sns.boxplot(df['balance'])\n",
        "plt.tight_layout()"
      ]
    },
    {
      "cell_type": "markdown",
      "id": "66b4dca6-b861-4a02-972a-34810932121f",
      "metadata": {
        "id": "66b4dca6-b861-4a02-972a-34810932121f"
      },
      "source": [
        "## D. Feature Transformation"
      ]
    },
    {
      "cell_type": "markdown",
      "id": "fc43b955-fbeb-4de4-a783-4620457e91ef",
      "metadata": {
        "id": "fc43b955-fbeb-4de4-a783-4620457e91ef"
      },
      "source": [
        "### Normalization"
      ]
    },
    {
      "cell_type": "code",
      "source": [
        "from sklearn.preprocessing import MinMaxScaler, StandardScaler\n",
        "df['balance_norm'] = MinMaxScaler().fit_transform(df['balance'].values.reshape(len(df), 1))"
      ],
      "metadata": {
        "id": "dH0MfB5ziZJf"
      },
      "id": "dH0MfB5ziZJf",
      "execution_count": 14,
      "outputs": []
    },
    {
      "cell_type": "code",
      "source": [
        "df['balance_norm']"
      ],
      "metadata": {
        "id": "0dxpgHPiibrh",
        "outputId": "fe164d40-7530-4314-e83b-550c88a31db7",
        "colab": {
          "base_uri": "https://localhost:8080/"
        }
      },
      "id": "0dxpgHPiibrh",
      "execution_count": 15,
      "outputs": [
        {
          "output_type": "execute_result",
          "data": {
            "text/plain": [
              "0        0.758809\n",
              "1        0.360467\n",
              "2        0.355380\n",
              "3        0.638779\n",
              "4        0.355191\n",
              "           ...   \n",
              "45205    0.450160\n",
              "45206    0.510458\n",
              "45207    0.680799\n",
              "45209    0.480874\n",
              "45210    0.914829\n",
              "Name: balance_norm, Length: 40121, dtype: float64"
            ]
          },
          "metadata": {},
          "execution_count": 15
        }
      ]
    },
    {
      "cell_type": "markdown",
      "id": "f6d2fe7f-d0d4-4215-b323-fdc6025495d8",
      "metadata": {
        "id": "f6d2fe7f-d0d4-4215-b323-fdc6025495d8"
      },
      "source": [
        "### Standardization"
      ]
    },
    {
      "cell_type": "markdown",
      "id": "7eada106-1bd7-43d5-8be3-cf1c32d77955",
      "metadata": {
        "id": "7eada106-1bd7-43d5-8be3-cf1c32d77955"
      },
      "source": [
        "#### Column 'age'"
      ]
    },
    {
      "cell_type": "code",
      "execution_count": 16,
      "id": "6a25b10a-c12b-49c1-9372-9b6ded832200",
      "metadata": {
        "id": "6a25b10a-c12b-49c1-9372-9b6ded832200"
      },
      "outputs": [],
      "source": [
        "df['age_std'] = StandardScaler().fit_transform(df['age'].values.reshape(len(df), 1))"
      ]
    },
    {
      "cell_type": "code",
      "execution_count": 17,
      "id": "0dde35e6-d895-4fd2-b12c-bcbd2ff72bd1",
      "metadata": {
        "id": "0dde35e6-d895-4fd2-b12c-bcbd2ff72bd1"
      },
      "outputs": [],
      "source": [
        "df.drop(columns=['age'], inplace=True)"
      ]
    },
    {
      "cell_type": "code",
      "execution_count": 18,
      "id": "cd9afb30-76e1-4971-a339-80d1ba51db42",
      "metadata": {
        "id": "cd9afb30-76e1-4971-a339-80d1ba51db42",
        "outputId": "c4540a67-fe77-42a3-c1f0-6462ed770f99",
        "colab": {
          "base_uri": "https://localhost:8080/"
        }
      },
      "outputs": [
        {
          "output_type": "execute_result",
          "data": {
            "text/plain": [
              "Index(['job', 'marital', 'education', 'default', 'balance', 'housing', 'loan',\n",
              "       'contact', 'day', 'month', 'duration', 'campaign', 'pdays', 'previous',\n",
              "       'poutcome', 'y', 'balance_norm', 'age_std'],\n",
              "      dtype='object')"
            ]
          },
          "metadata": {},
          "execution_count": 18
        }
      ],
      "source": [
        "df.columns"
      ]
    },
    {
      "cell_type": "markdown",
      "id": "472c4941-d413-4909-8fe2-529598ff1b70",
      "metadata": {
        "id": "472c4941-d413-4909-8fe2-529598ff1b70"
      },
      "source": [
        "## E. Feature Encoding"
      ]
    },
    {
      "cell_type": "markdown",
      "id": "395b94ad-d7fa-499b-9e9d-93d2cc0f4c84",
      "metadata": {
        "id": "395b94ad-d7fa-499b-9e9d-93d2cc0f4c84"
      },
      "source": [
        "### Label Encoding"
      ]
    },
    {
      "cell_type": "markdown",
      "id": "f1d4e8ea-42d8-4e0d-8cb9-57d5626d23fe",
      "metadata": {
        "id": "f1d4e8ea-42d8-4e0d-8cb9-57d5626d23fe"
      },
      "source": [
        "#### Column 'default'"
      ]
    },
    {
      "cell_type": "code",
      "execution_count": 19,
      "id": "6c7c14e0-622b-4052-bff9-f25a47871d0e",
      "metadata": {
        "id": "6c7c14e0-622b-4052-bff9-f25a47871d0e"
      },
      "outputs": [],
      "source": [
        "df['default'] = df['default'].map({'yes': 1, 'no': 0})"
      ]
    },
    {
      "cell_type": "markdown",
      "id": "8328a347-b6b5-41b4-955d-f749df1bf42c",
      "metadata": {
        "id": "8328a347-b6b5-41b4-955d-f749df1bf42c"
      },
      "source": [
        "#### Column 'loan'"
      ]
    },
    {
      "cell_type": "code",
      "execution_count": 20,
      "id": "5717d745-3d9f-43ee-beeb-ae8cf8017e5b",
      "metadata": {
        "id": "5717d745-3d9f-43ee-beeb-ae8cf8017e5b"
      },
      "outputs": [],
      "source": [
        "df['loan'] = df['loan'].map({'yes': 1, 'no': 0})"
      ]
    },
    {
      "cell_type": "markdown",
      "id": "b973deaa-0a1f-4dd8-9786-faba71a093c5",
      "metadata": {
        "id": "b973deaa-0a1f-4dd8-9786-faba71a093c5"
      },
      "source": [
        "#### Column 'housing'"
      ]
    },
    {
      "cell_type": "code",
      "execution_count": 21,
      "id": "174d3940-5ea8-4bc7-b255-4df360a81a62",
      "metadata": {
        "id": "174d3940-5ea8-4bc7-b255-4df360a81a62"
      },
      "outputs": [],
      "source": [
        "df['housing'] = df['housing'].map({'yes': 1, 'no': 0})"
      ]
    },
    {
      "cell_type": "markdown",
      "id": "92856b87-f9cc-45d8-bafc-dc072967db50",
      "metadata": {
        "id": "92856b87-f9cc-45d8-bafc-dc072967db50"
      },
      "source": [
        "#### Column 'education'"
      ]
    },
    {
      "cell_type": "code",
      "execution_count": 22,
      "id": "c11132a1-7f3b-4e5e-9f9d-c9d2d3561c4e",
      "metadata": {
        "id": "c11132a1-7f3b-4e5e-9f9d-c9d2d3561c4e"
      },
      "outputs": [],
      "source": [
        "mapping_education = {\n",
        "    'unknown' : 0,\n",
        "    'primary' : 1,\n",
        "    'secondary' : 2,\n",
        "    'tertiary' : 3\n",
        "}\n",
        "df['education'] = df['education'].map(mapping_education)"
      ]
    },
    {
      "cell_type": "markdown",
      "id": "97474145-d954-4b9d-b17a-5283b98d8c2e",
      "metadata": {
        "id": "97474145-d954-4b9d-b17a-5283b98d8c2e"
      },
      "source": [
        "#### Column 'y'"
      ]
    },
    {
      "cell_type": "code",
      "execution_count": 23,
      "id": "eecdf3fb",
      "metadata": {
        "id": "eecdf3fb"
      },
      "outputs": [],
      "source": [
        "df['y'] = df['y'].map({'yes': 1, 'no': 0})"
      ]
    },
    {
      "cell_type": "markdown",
      "id": "0dd1d18c-eec8-4493-bb93-1e9bba00bf4f",
      "metadata": {
        "id": "0dd1d18c-eec8-4493-bb93-1e9bba00bf4f",
        "tags": []
      },
      "source": [
        "### OHE"
      ]
    },
    {
      "cell_type": "markdown",
      "id": "e6b912b7-1fda-4a0a-bf4a-377b6b76b2ff",
      "metadata": {
        "id": "e6b912b7-1fda-4a0a-bf4a-377b6b76b2ff"
      },
      "source": [
        "#### Column 'job', 'marital', 'contact'"
      ]
    },
    {
      "cell_type": "code",
      "execution_count": 24,
      "id": "5b8c422b-a45e-4234-8c78-fbccd4825e42",
      "metadata": {
        "id": "5b8c422b-a45e-4234-8c78-fbccd4825e42"
      },
      "outputs": [],
      "source": [
        "for cats in ['job', 'marital', 'contact']:\n",
        "    onehots = pd.get_dummies(df[cats], prefix=cats)\n",
        "    df = df.join(onehots)"
      ]
    },
    {
      "cell_type": "code",
      "execution_count": 25,
      "id": "0be68487-647a-428c-81a6-a2d9bc768bf3",
      "metadata": {
        "id": "0be68487-647a-428c-81a6-a2d9bc768bf3"
      },
      "outputs": [],
      "source": [
        "df = df.drop(columns=['job', 'marital', 'contact'])"
      ]
    },
    {
      "cell_type": "code",
      "execution_count": 26,
      "id": "86ceccfc-f6ca-4347-9186-b921c7de8657",
      "metadata": {
        "id": "86ceccfc-f6ca-4347-9186-b921c7de8657",
        "outputId": "b49a92ae-6e51-4290-9e98-856671f088fc",
        "colab": {
          "base_uri": "https://localhost:8080/",
          "height": 300
        }
      },
      "outputs": [
        {
          "output_type": "execute_result",
          "data": {
            "text/plain": [
              "   education  default  balance  housing  loan  day month  duration  campaign  \\\n",
              "0          3        0     2143        1     0    5   may       261         1   \n",
              "1          2        0       29        1     0    5   may       151         1   \n",
              "2          2        0        2        1     1    5   may        76         1   \n",
              "3          0        0     1506        1     0    5   may        92         1   \n",
              "4          0        0        1        0     0    5   may       198         1   \n",
              "\n",
              "   pdays  ...  job_student job_technician  job_unemployed  job_unknown  \\\n",
              "0     -1  ...            0              0               0            0   \n",
              "1     -1  ...            0              1               0            0   \n",
              "2     -1  ...            0              0               0            0   \n",
              "3     -1  ...            0              0               0            0   \n",
              "4     -1  ...            0              0               0            1   \n",
              "\n",
              "   marital_divorced  marital_married  marital_single  contact_cellular  \\\n",
              "0                 0                1               0                 0   \n",
              "1                 0                0               1                 0   \n",
              "2                 0                1               0                 0   \n",
              "3                 0                1               0                 0   \n",
              "4                 0                0               1                 0   \n",
              "\n",
              "   contact_telephone  contact_unknown  \n",
              "0                  0                1  \n",
              "1                  0                1  \n",
              "2                  0                1  \n",
              "3                  0                1  \n",
              "4                  0                1  \n",
              "\n",
              "[5 rows x 33 columns]"
            ],
            "text/html": [
              "\n",
              "  <div id=\"df-972b5fcb-bf99-410a-866f-157d38c2aa57\">\n",
              "    <div class=\"colab-df-container\">\n",
              "      <div>\n",
              "<style scoped>\n",
              "    .dataframe tbody tr th:only-of-type {\n",
              "        vertical-align: middle;\n",
              "    }\n",
              "\n",
              "    .dataframe tbody tr th {\n",
              "        vertical-align: top;\n",
              "    }\n",
              "\n",
              "    .dataframe thead th {\n",
              "        text-align: right;\n",
              "    }\n",
              "</style>\n",
              "<table border=\"1\" class=\"dataframe\">\n",
              "  <thead>\n",
              "    <tr style=\"text-align: right;\">\n",
              "      <th></th>\n",
              "      <th>education</th>\n",
              "      <th>default</th>\n",
              "      <th>balance</th>\n",
              "      <th>housing</th>\n",
              "      <th>loan</th>\n",
              "      <th>day</th>\n",
              "      <th>month</th>\n",
              "      <th>duration</th>\n",
              "      <th>campaign</th>\n",
              "      <th>pdays</th>\n",
              "      <th>...</th>\n",
              "      <th>job_student</th>\n",
              "      <th>job_technician</th>\n",
              "      <th>job_unemployed</th>\n",
              "      <th>job_unknown</th>\n",
              "      <th>marital_divorced</th>\n",
              "      <th>marital_married</th>\n",
              "      <th>marital_single</th>\n",
              "      <th>contact_cellular</th>\n",
              "      <th>contact_telephone</th>\n",
              "      <th>contact_unknown</th>\n",
              "    </tr>\n",
              "  </thead>\n",
              "  <tbody>\n",
              "    <tr>\n",
              "      <th>0</th>\n",
              "      <td>3</td>\n",
              "      <td>0</td>\n",
              "      <td>2143</td>\n",
              "      <td>1</td>\n",
              "      <td>0</td>\n",
              "      <td>5</td>\n",
              "      <td>may</td>\n",
              "      <td>261</td>\n",
              "      <td>1</td>\n",
              "      <td>-1</td>\n",
              "      <td>...</td>\n",
              "      <td>0</td>\n",
              "      <td>0</td>\n",
              "      <td>0</td>\n",
              "      <td>0</td>\n",
              "      <td>0</td>\n",
              "      <td>1</td>\n",
              "      <td>0</td>\n",
              "      <td>0</td>\n",
              "      <td>0</td>\n",
              "      <td>1</td>\n",
              "    </tr>\n",
              "    <tr>\n",
              "      <th>1</th>\n",
              "      <td>2</td>\n",
              "      <td>0</td>\n",
              "      <td>29</td>\n",
              "      <td>1</td>\n",
              "      <td>0</td>\n",
              "      <td>5</td>\n",
              "      <td>may</td>\n",
              "      <td>151</td>\n",
              "      <td>1</td>\n",
              "      <td>-1</td>\n",
              "      <td>...</td>\n",
              "      <td>0</td>\n",
              "      <td>1</td>\n",
              "      <td>0</td>\n",
              "      <td>0</td>\n",
              "      <td>0</td>\n",
              "      <td>0</td>\n",
              "      <td>1</td>\n",
              "      <td>0</td>\n",
              "      <td>0</td>\n",
              "      <td>1</td>\n",
              "    </tr>\n",
              "    <tr>\n",
              "      <th>2</th>\n",
              "      <td>2</td>\n",
              "      <td>0</td>\n",
              "      <td>2</td>\n",
              "      <td>1</td>\n",
              "      <td>1</td>\n",
              "      <td>5</td>\n",
              "      <td>may</td>\n",
              "      <td>76</td>\n",
              "      <td>1</td>\n",
              "      <td>-1</td>\n",
              "      <td>...</td>\n",
              "      <td>0</td>\n",
              "      <td>0</td>\n",
              "      <td>0</td>\n",
              "      <td>0</td>\n",
              "      <td>0</td>\n",
              "      <td>1</td>\n",
              "      <td>0</td>\n",
              "      <td>0</td>\n",
              "      <td>0</td>\n",
              "      <td>1</td>\n",
              "    </tr>\n",
              "    <tr>\n",
              "      <th>3</th>\n",
              "      <td>0</td>\n",
              "      <td>0</td>\n",
              "      <td>1506</td>\n",
              "      <td>1</td>\n",
              "      <td>0</td>\n",
              "      <td>5</td>\n",
              "      <td>may</td>\n",
              "      <td>92</td>\n",
              "      <td>1</td>\n",
              "      <td>-1</td>\n",
              "      <td>...</td>\n",
              "      <td>0</td>\n",
              "      <td>0</td>\n",
              "      <td>0</td>\n",
              "      <td>0</td>\n",
              "      <td>0</td>\n",
              "      <td>1</td>\n",
              "      <td>0</td>\n",
              "      <td>0</td>\n",
              "      <td>0</td>\n",
              "      <td>1</td>\n",
              "    </tr>\n",
              "    <tr>\n",
              "      <th>4</th>\n",
              "      <td>0</td>\n",
              "      <td>0</td>\n",
              "      <td>1</td>\n",
              "      <td>0</td>\n",
              "      <td>0</td>\n",
              "      <td>5</td>\n",
              "      <td>may</td>\n",
              "      <td>198</td>\n",
              "      <td>1</td>\n",
              "      <td>-1</td>\n",
              "      <td>...</td>\n",
              "      <td>0</td>\n",
              "      <td>0</td>\n",
              "      <td>0</td>\n",
              "      <td>1</td>\n",
              "      <td>0</td>\n",
              "      <td>0</td>\n",
              "      <td>1</td>\n",
              "      <td>0</td>\n",
              "      <td>0</td>\n",
              "      <td>1</td>\n",
              "    </tr>\n",
              "  </tbody>\n",
              "</table>\n",
              "<p>5 rows × 33 columns</p>\n",
              "</div>\n",
              "      <button class=\"colab-df-convert\" onclick=\"convertToInteractive('df-972b5fcb-bf99-410a-866f-157d38c2aa57')\"\n",
              "              title=\"Convert this dataframe to an interactive table.\"\n",
              "              style=\"display:none;\">\n",
              "        \n",
              "  <svg xmlns=\"http://www.w3.org/2000/svg\" height=\"24px\"viewBox=\"0 0 24 24\"\n",
              "       width=\"24px\">\n",
              "    <path d=\"M0 0h24v24H0V0z\" fill=\"none\"/>\n",
              "    <path d=\"M18.56 5.44l.94 2.06.94-2.06 2.06-.94-2.06-.94-.94-2.06-.94 2.06-2.06.94zm-11 1L8.5 8.5l.94-2.06 2.06-.94-2.06-.94L8.5 2.5l-.94 2.06-2.06.94zm10 10l.94 2.06.94-2.06 2.06-.94-2.06-.94-.94-2.06-.94 2.06-2.06.94z\"/><path d=\"M17.41 7.96l-1.37-1.37c-.4-.4-.92-.59-1.43-.59-.52 0-1.04.2-1.43.59L10.3 9.45l-7.72 7.72c-.78.78-.78 2.05 0 2.83L4 21.41c.39.39.9.59 1.41.59.51 0 1.02-.2 1.41-.59l7.78-7.78 2.81-2.81c.8-.78.8-2.07 0-2.86zM5.41 20L4 18.59l7.72-7.72 1.47 1.35L5.41 20z\"/>\n",
              "  </svg>\n",
              "      </button>\n",
              "      \n",
              "  <style>\n",
              "    .colab-df-container {\n",
              "      display:flex;\n",
              "      flex-wrap:wrap;\n",
              "      gap: 12px;\n",
              "    }\n",
              "\n",
              "    .colab-df-convert {\n",
              "      background-color: #E8F0FE;\n",
              "      border: none;\n",
              "      border-radius: 50%;\n",
              "      cursor: pointer;\n",
              "      display: none;\n",
              "      fill: #1967D2;\n",
              "      height: 32px;\n",
              "      padding: 0 0 0 0;\n",
              "      width: 32px;\n",
              "    }\n",
              "\n",
              "    .colab-df-convert:hover {\n",
              "      background-color: #E2EBFA;\n",
              "      box-shadow: 0px 1px 2px rgba(60, 64, 67, 0.3), 0px 1px 3px 1px rgba(60, 64, 67, 0.15);\n",
              "      fill: #174EA6;\n",
              "    }\n",
              "\n",
              "    [theme=dark] .colab-df-convert {\n",
              "      background-color: #3B4455;\n",
              "      fill: #D2E3FC;\n",
              "    }\n",
              "\n",
              "    [theme=dark] .colab-df-convert:hover {\n",
              "      background-color: #434B5C;\n",
              "      box-shadow: 0px 1px 3px 1px rgba(0, 0, 0, 0.15);\n",
              "      filter: drop-shadow(0px 1px 2px rgba(0, 0, 0, 0.3));\n",
              "      fill: #FFFFFF;\n",
              "    }\n",
              "  </style>\n",
              "\n",
              "      <script>\n",
              "        const buttonEl =\n",
              "          document.querySelector('#df-972b5fcb-bf99-410a-866f-157d38c2aa57 button.colab-df-convert');\n",
              "        buttonEl.style.display =\n",
              "          google.colab.kernel.accessAllowed ? 'block' : 'none';\n",
              "\n",
              "        async function convertToInteractive(key) {\n",
              "          const element = document.querySelector('#df-972b5fcb-bf99-410a-866f-157d38c2aa57');\n",
              "          const dataTable =\n",
              "            await google.colab.kernel.invokeFunction('convertToInteractive',\n",
              "                                                     [key], {});\n",
              "          if (!dataTable) return;\n",
              "\n",
              "          const docLinkHtml = 'Like what you see? Visit the ' +\n",
              "            '<a target=\"_blank\" href=https://colab.research.google.com/notebooks/data_table.ipynb>data table notebook</a>'\n",
              "            + ' to learn more about interactive tables.';\n",
              "          element.innerHTML = '';\n",
              "          dataTable['output_type'] = 'display_data';\n",
              "          await google.colab.output.renderOutput(dataTable, element);\n",
              "          const docLink = document.createElement('div');\n",
              "          docLink.innerHTML = docLinkHtml;\n",
              "          element.appendChild(docLink);\n",
              "        }\n",
              "      </script>\n",
              "    </div>\n",
              "  </div>\n",
              "  "
            ]
          },
          "metadata": {},
          "execution_count": 26
        }
      ],
      "source": [
        "df.head()"
      ]
    },
    {
      "cell_type": "markdown",
      "id": "30807c77-5203-457c-b9f0-4f85b5d84842",
      "metadata": {
        "id": "30807c77-5203-457c-b9f0-4f85b5d84842",
        "tags": []
      },
      "source": [
        "## F. Handle class imbalance"
      ]
    },
    {
      "cell_type": "code",
      "execution_count": 27,
      "id": "e6b8344e-e33f-4be0-ab18-825de597a1ba",
      "metadata": {
        "id": "e6b8344e-e33f-4be0-ab18-825de597a1ba",
        "outputId": "1e2c5995-ad08-470c-a201-66405ca59ded",
        "colab": {
          "base_uri": "https://localhost:8080/"
        }
      },
      "outputs": [
        {
          "output_type": "stream",
          "name": "stdout",
          "text": [
            "(40121, 30)\n",
            "(40121,)\n"
          ]
        }
      ],
      "source": [
        "X = df[[col for col in df.columns if (str(df[col].dtype) != 'object') and col not in ['y']]]\n",
        "y = df['y'].values\n",
        "print(X.shape)\n",
        "print(y.shape)"
      ]
    },
    {
      "cell_type": "code",
      "execution_count": 28,
      "id": "8fd7aad0-3486-4f97-b566-32b25c340a3b",
      "metadata": {
        "id": "8fd7aad0-3486-4f97-b566-32b25c340a3b"
      },
      "outputs": [],
      "source": [
        "X_over_SMOTE, y_over_SMOTE = over_sampling.SMOTE(0.5).fit_resample(X, y)"
      ]
    },
    {
      "cell_type": "code",
      "execution_count": 29,
      "id": "62dbba0f-d4db-4c78-a857-052b356e5cd7",
      "metadata": {
        "colab": {
          "base_uri": "https://localhost:8080/"
        },
        "id": "62dbba0f-d4db-4c78-a857-052b356e5cd7",
        "outputId": "9dba0b67-7608-48c7-e266-626fad205f1e"
      },
      "outputs": [
        {
          "output_type": "stream",
          "name": "stdout",
          "text": [
            "SMOTE\n",
            "0    35737\n",
            "1    17868\n",
            "dtype: int64\n"
          ]
        }
      ],
      "source": [
        "print('SMOTE')\n",
        "print(pd.Series(y_over_SMOTE).value_counts())"
      ]
    },
    {
      "cell_type": "markdown",
      "id": "3c726f33-80dc-4db7-8099-8d0db1168526",
      "metadata": {
        "id": "3c726f33-80dc-4db7-8099-8d0db1168526",
        "tags": []
      },
      "source": [
        "# 2. Feature Engineering"
      ]
    },
    {
      "cell_type": "markdown",
      "id": "7e77ce95-bcf1-48c3-8b65-75e1aa852a8f",
      "metadata": {
        "id": "7e77ce95-bcf1-48c3-8b65-75e1aa852a8f",
        "tags": []
      },
      "source": [
        "## Feature Selection"
      ]
    },
    {
      "cell_type": "markdown",
      "id": "5c9be473",
      "metadata": {
        "id": "5c9be473"
      },
      "source": [
        "### Column 'pdays'"
      ]
    },
    {
      "cell_type": "code",
      "execution_count": 30,
      "id": "d573e368-2173-4ad1-9eeb-cb6ce108967b",
      "metadata": {
        "id": "d573e368-2173-4ad1-9eeb-cb6ce108967b",
        "outputId": "f0909786-21ab-4b8e-91bc-50fbf0a1c221",
        "colab": {
          "base_uri": "https://localhost:8080/",
          "height": 297
        }
      },
      "outputs": [
        {
          "output_type": "execute_result",
          "data": {
            "text/plain": [
              "<matplotlib.axes._subplots.AxesSubplot at 0x7f3c0e79a890>"
            ]
          },
          "metadata": {},
          "execution_count": 30
        },
        {
          "output_type": "display_data",
          "data": {
            "text/plain": [
              "<Figure size 432x288 with 1 Axes>"
            ],
            "image/png": "[encoded data removed]"
          },
          "metadata": {
            "needs_background": "light"
          }
        }
      ],
      "source": [
        "sns.kdeplot(df['pdays'])"
      ]
    },
    {
      "cell_type": "markdown",
      "id": "1bd82aa8-483e-441a-8fe2-4909ad82c9f4",
      "metadata": {
        "id": "1bd82aa8-483e-441a-8fe2-4909ad82c9f4"
      },
      "source": [
        "Karena mayoritas belum pernah dikontak, maka kolom pdays tidak akan relevan terhadap model.\n",
        "Jika data bernilai -1 saja yang di-drop, maka persentase data yang hilang melebihi 75%, sehingga kolom pdays di-drop."
      ]
    },
    {
      "cell_type": "markdown",
      "id": "bdb5915d-22d1-412f-973a-c7e7bf13e9ad",
      "metadata": {
        "id": "bdb5915d-22d1-412f-973a-c7e7bf13e9ad"
      },
      "source": [
        "### Column 'previous'"
      ]
    },
    {
      "cell_type": "code",
      "execution_count": 31,
      "id": "3ab39c40-8f04-4e15-92ef-2474c8daf242",
      "metadata": {
        "id": "3ab39c40-8f04-4e15-92ef-2474c8daf242",
        "outputId": "5d4f87cd-b689-4d7c-eb5e-b831ba684dc6",
        "colab": {
          "base_uri": "https://localhost:8080/",
          "height": 297
        }
      },
      "outputs": [
        {
          "output_type": "execute_result",
          "data": {
            "text/plain": [
              "<matplotlib.axes._subplots.AxesSubplot at 0x7f3c0e6d6e50>"
            ]
          },
          "metadata": {},
          "execution_count": 31
        },
        {
          "output_type": "display_data",
          "data": {
            "text/plain": [
              "<Figure size 432x288 with 1 Axes>"
            ],
            "image/png": "[encoded data removed]"
          },
          "metadata": {
            "needs_background": "light"
          }
        }
      ],
      "source": [
        "sns.kdeplot(df['previous'])"
      ]
    },
    {
      "cell_type": "markdown",
      "id": "4b8f5395-aa28-4bfd-b225-e2c27623079b",
      "metadata": {
        "id": "4b8f5395-aa28-4bfd-b225-e2c27623079b"
      },
      "source": [
        "Sama seperti pdays bahwa mayoritas belum pernah dikontak, sehingga tidak akan relevan terhadap model.\n",
        "Jika data bernilai 0 saja yang di-drop, maka persentase data yang hilang melebihi 75%, sehingga kolom previous di-drop"
      ]
    },
    {
      "cell_type": "markdown",
      "source": [
        "### Column 'month', 'duration', 'campaign', 'day', 'poutcome', 'balance'"
      ],
      "metadata": {
        "id": "nhXuUTt4jbtM"
      },
      "id": "nhXuUTt4jbtM"
    },
    {
      "cell_type": "markdown",
      "source": [
        "Kolom-kolom 'month', 'duration', 'campaign', 'day', 'poutcome', 'balance' adalah feature yang tidak relevan jika model yang kami buat adalah untuk memprediksi user baru, karena untuk user yang belum pernah dihubungi tidak akan memiliki data untuk kolom-kolom tersebut. Maka dari itu semua kolom tersebut akan dihapus."
      ],
      "metadata": {
        "id": "hEkayyfEjnnH"
      },
      "id": "hEkayyfEjnnH"
    },
    {
      "cell_type": "code",
      "source": [
        "df = df.drop(columns=['pdays', 'previous', 'month', 'duration', 'campaign', 'day', 'poutcome', 'balance'])"
      ],
      "metadata": {
        "id": "9dbM7RUxjGvA"
      },
      "id": "9dbM7RUxjGvA",
      "execution_count": 32,
      "outputs": []
    },
    {
      "cell_type": "code",
      "source": [
        "df.columns"
      ],
      "metadata": {
        "id": "sT1-_KHFjJnc",
        "outputId": "f3d3c75e-f35d-4f57-d5b9-003e79a1e563",
        "colab": {
          "base_uri": "https://localhost:8080/"
        }
      },
      "id": "sT1-_KHFjJnc",
      "execution_count": 33,
      "outputs": [
        {
          "output_type": "execute_result",
          "data": {
            "text/plain": [
              "Index(['education', 'default', 'housing', 'loan', 'y', 'balance_norm',\n",
              "       'age_std', 'job_admin.', 'job_blue-collar', 'job_entrepreneur',\n",
              "       'job_housemaid', 'job_management', 'job_retired', 'job_self-employed',\n",
              "       'job_services', 'job_student', 'job_technician', 'job_unemployed',\n",
              "       'job_unknown', 'marital_divorced', 'marital_married', 'marital_single',\n",
              "       'contact_cellular', 'contact_telephone', 'contact_unknown'],\n",
              "      dtype='object')"
            ]
          },
          "metadata": {},
          "execution_count": 33
        }
      ]
    },
    {
      "cell_type": "markdown",
      "id": "3682e6f5-7f09-49fb-8021-d4ef98e6e3ee",
      "metadata": {
        "id": "3682e6f5-7f09-49fb-8021-d4ef98e6e3ee",
        "tags": []
      },
      "source": [
        "## Feature Extraction"
      ]
    },
    {
      "cell_type": "markdown",
      "id": "de999d4d-64a1-4e24-899a-1708a9651a05",
      "metadata": {
        "id": "de999d4d-64a1-4e24-899a-1708a9651a05"
      },
      "source": [
        "Tidak ada feature yang bisa di-extract"
      ]
    },
    {
      "cell_type": "markdown",
      "id": "017eec84-cabf-47e6-967c-03d072978f65",
      "metadata": {
        "id": "017eec84-cabf-47e6-967c-03d072978f65"
      },
      "source": [
        "## 4 Feature Tambahan"
      ]
    },
    {
      "cell_type": "markdown",
      "id": "0950cd6f-892f-4aed-a799-e76434158149",
      "metadata": {
        "id": "0950cd6f-892f-4aed-a799-e76434158149"
      },
      "source": [
        "- Rata-rata saldo per bulan\n",
        "- Kota tempat tinggal\n",
        "- Penghasilan tahunan\n",
        "- Credit score"
      ]
    }
  ],
  "metadata": {
    "colab": {
      "name": "Stage 2 - Source Code - Fantastic Four.ipynb",
      "provenance": [],
      "toc_visible": true,
      "include_colab_link": true
    },
    "kernelspec": {
      "display_name": "Python 3 (ipykernel)",
      "language": "python",
      "name": "python3"
    },
    "language_info": {
      "codemirror_mode": {
        "name": "ipython",
        "version": 3
      },
      "file_extension": ".py",
      "mimetype": "text/x-python",
      "name": "python",
      "nbconvert_exporter": "python",
      "pygments_lexer": "ipython3",
      "version": "3.9.7"
    },
    "toc-showmarkdowntxt": false
  },
  "nbformat": 4,
  "nbformat_minor": 5
}