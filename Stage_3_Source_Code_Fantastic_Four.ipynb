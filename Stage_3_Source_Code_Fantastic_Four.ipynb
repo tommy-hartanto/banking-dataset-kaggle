{
  "cells": [
    {
      "cell_type": "markdown",
      "metadata": {
        "id": "view-in-github",
        "colab_type": "text"
      },
      "source": [
        "<a href=\"https://colab.research.google.com/github/tommy-hartanto/rakamin/blob/main/Stage_3_Source_Code_Fantastic_Four.ipynb\" target=\"_parent\"><img src=\"https://colab.research.google.com/assets/colab-badge.svg\" alt=\"Open In Colab\"/></a>"
      ]
    },
    {
      "cell_type": "code",
      "execution_count": 1,
      "id": "72400521",
      "metadata": {
        "id": "72400521"
      },
      "outputs": [],
      "source": [
        "import warnings\n",
        "warnings.filterwarnings('ignore')\n",
        "\n",
        "import matplotlib.pyplot as plt\n",
        "import pandas as pd\n",
        "import numpy as np\n",
        "import seaborn as sns\n",
        "from sklearn import metrics\n",
        "from sklearn.model_selection import RandomizedSearchCV, GridSearchCV\n",
        "from scipy.stats import uniform\n",
        "from sklearn.ensemble import RandomForestClassifier\n",
        "from sklearn.neighbors import KNeighborsClassifier\n",
        "from sklearn.tree import DecisionTreeClassifier\n",
        "from sklearn.linear_model import LogisticRegression\n",
        "from sklearn.model_selection import train_test_split\n",
        "\n",
        "pd.set_option(\"max_column\",100)\n",
        "\n",
        "import warnings\n",
        "warnings.filterwarnings('ignore')"
      ]
    },
    {
      "cell_type": "code",
      "execution_count": 2,
      "id": "a3f8c478",
      "metadata": {
        "id": "a3f8c478"
      },
      "outputs": [],
      "source": [
        "from sklearn.metrics import accuracy_score, precision_score, recall_score, f1_score, roc_auc_score, average_precision_score\n",
        "\n",
        "def eval_classification(model, X_train, y_train, X_test, y_test, threshold=0.5, flag=True, roc=True ):\n",
        "    score=[] \n",
        "    \n",
        "    pred_train = (model.predict_proba(X_train)[:,1]>threshold)\n",
        "    pred_test = (model.predict_proba(X_test)[:,1]>threshold)\n",
        "\n",
        "    pred_train = np.round(pred_train)\n",
        "    pred_test = np.round(pred_test)\n",
        "    \n",
        "    train_acc = accuracy_score(pred_train,y_train)\n",
        "    test_acc = accuracy_score(pred_test,y_test)\n",
        "    \n",
        "    train_recall = recall_score(y_train,pred_train)\n",
        "    test_recall = recall_score(y_test,pred_test)\n",
        "    \n",
        "    train_precision = precision_score(y_train,pred_train)\n",
        "    test_precision = precision_score(y_test,pred_test)\n",
        "    \n",
        "    train_f1 = f1_score(y_train,pred_train)\n",
        "    test_f1 = f1_score(y_test,pred_test)\n",
        "    \n",
        "    \n",
        "    score.extend((train_acc,test_acc,train_recall,test_recall,train_precision,test_precision,train_f1,test_f1,pred_train,pred_test))\n",
        "        \n",
        "    \n",
        "    if flag == True: \n",
        "        print(\"Accuracy on training set : \",accuracy_score(pred_train,y_train))\n",
        "        print(\"Accuracy on test set : \",accuracy_score(pred_test,y_test))\n",
        "        print(\"Recall on training set : \",recall_score(y_train,pred_train))\n",
        "        print(\"Recall on test set : \",recall_score(y_test,pred_test))\n",
        "        print(\"Precision on training set : \",precision_score(y_train,pred_train))\n",
        "        print(\"Precision on test set : \",precision_score(y_test,pred_test))\n",
        "        print(\"F1 on training set : \",f1_score(y_train,pred_train))\n",
        "        print(\"F1 on test set : \",f1_score(y_test,pred_test))\n",
        "   \n",
        "    if roc == True:\n",
        "        pred_train_prob = model.predict_proba(X_train)[:,1]\n",
        "        pred_test_prob = model.predict_proba(X_test)[:,1]\n",
        "        print(\"ROC-AUC Score on training set : \",roc_auc_score(y_train,pred_train))\n",
        "        print(\"ROC-AUC Score on test set : \",roc_auc_score(y_test,pred_test))\n",
        "        print(\"PR-AUC Score on training set : \",average_precision_score(y_train,pred_train))\n",
        "        print(\"PR-AUC Score on test set : \",average_precision_score(y_test,pred_test))\n",
        "    \n",
        "    return score # returning the list with train and test scores"
      ]
    },
    {
      "cell_type": "code",
      "execution_count": 3,
      "id": "e278ac7b",
      "metadata": {
        "id": "e278ac7b"
      },
      "outputs": [],
      "source": [
        "## Fungsi untuk mengeluarkan confusion matrix\n",
        "def confusion_matrix(model,test_X,y_actual,i,seg,labels=[1, 0]):\n",
        "    '''\n",
        "    model : classifier to predict values of X\n",
        "    test_X: test set\n",
        "    y_actual : ground truth  \n",
        "    \n",
        "    '''\n",
        "    y_predict = model.predict(test_X)\n",
        "    cm=metrics.confusion_matrix( y_actual, y_predict, labels=[1,0])\n",
        "    df_cm = pd.DataFrame(cm, index = [i for i in ['Actual - Subscribed', 'Actual - Not Subscribed']],\n",
        "                  columns = [i for i in ['Predicted - Subscribed','Predicted - Not Subscribed']])\n",
        "    group_counts = [\"{0:0.0f}\".format(value) for value in\n",
        "                cm.flatten()]\n",
        "    group_percentages = [\"{0:.2%}\".format(value) for value in\n",
        "                         cm.flatten()/np.sum(cm)]\n",
        "    labels = [f\"{v1}\\n{v2}\" for v1, v2 in\n",
        "              zip(group_counts,group_percentages)]\n",
        "    labels = np.asarray(labels).reshape(2,2)\n",
        "    plt.figure(figsize = (10,7))\n",
        "    sns.heatmap(df_cm, annot=labels,fmt='', ax=axes[i], cmap='Blues').set(title='Confusion Matrix of {} Set'.format(seg))"
      ]
    },
    {
      "cell_type": "code",
      "execution_count": 19,
      "id": "86712b70-5e34-4e51-8152-0201c5222e2c",
      "metadata": {
        "id": "86712b70-5e34-4e51-8152-0201c5222e2c"
      },
      "outputs": [],
      "source": [
        "def show_feature_importance(model):\n",
        "    feat_importances = pd.Series(model.feature_importances_, index=X.columns)\n",
        "    ax = feat_importances.nlargest(25).plot(kind='barh', figsize=(10, 8))\n",
        "    ax.invert_yaxis()\n",
        "\n",
        "    plt.xlabel('score')\n",
        "    plt.ylabel('feature')\n",
        "    plt.title('feature importance score')\n",
        "\n",
        "def show_best_hyperparameter(model, hyperparameters):\n",
        "    for key, value in hyperparameters.items() :\n",
        "        print('Best '+key+':', model.get_params()[key])"
      ]
    },
    {
      "cell_type": "markdown",
      "id": "5f2ac5c9",
      "metadata": {
        "id": "5f2ac5c9"
      },
      "source": [
        "# 1. Split Data Train & Test"
      ]
    },
    {
      "cell_type": "code",
      "execution_count": 5,
      "id": "2113b04a",
      "metadata": {
        "colab": {
          "base_uri": "https://localhost:8080/",
          "height": 162
        },
        "id": "2113b04a",
        "outputId": "25d7067d-323f-4b47-99b8-891ce60eae86"
      },
      "outputs": [
        {
          "output_type": "execute_result",
          "data": {
            "text/plain": [
              "   education  default  housing  loan  y  balance_norm   age_std  job_admin.  \\\n",
              "0          3        0        1     0  0      0.758809  1.770427           0   \n",
              "\n",
              "   job_blue-collar  job_entrepreneur  job_housemaid  job_management  \\\n",
              "0                0                 0              0               1   \n",
              "\n",
              "   job_retired  job_self-employed  job_services  job_student  job_technician  \\\n",
              "0            0                  0             0            0               0   \n",
              "\n",
              "   job_unemployed  job_unknown  marital_divorced  marital_married  \\\n",
              "0               0            0                 0                1   \n",
              "\n",
              "   marital_single  contact_cellular  contact_telephone  contact_unknown  \n",
              "0               0                 0                  0                1  "
            ],
            "text/html": [
              "\n",
              "  <div id=\"df-345573ee-241f-49e1-b821-ab059a9056e7\">\n",
              "    <div class=\"colab-df-container\">\n",
              "      <div>\n",
              "<style scoped>\n",
              "    .dataframe tbody tr th:only-of-type {\n",
              "        vertical-align: middle;\n",
              "    }\n",
              "\n",
              "    .dataframe tbody tr th {\n",
              "        vertical-align: top;\n",
              "    }\n",
              "\n",
              "    .dataframe thead th {\n",
              "        text-align: right;\n",
              "    }\n",
              "</style>\n",
              "<table border=\"1\" class=\"dataframe\">\n",
              "  <thead>\n",
              "    <tr style=\"text-align: right;\">\n",
              "      <th></th>\n",
              "      <th>education</th>\n",
              "      <th>default</th>\n",
              "      <th>housing</th>\n",
              "      <th>loan</th>\n",
              "      <th>y</th>\n",
              "      <th>balance_norm</th>\n",
              "      <th>age_std</th>\n",
              "      <th>job_admin.</th>\n",
              "      <th>job_blue-collar</th>\n",
              "      <th>job_entrepreneur</th>\n",
              "      <th>job_housemaid</th>\n",
              "      <th>job_management</th>\n",
              "      <th>job_retired</th>\n",
              "      <th>job_self-employed</th>\n",
              "      <th>job_services</th>\n",
              "      <th>job_student</th>\n",
              "      <th>job_technician</th>\n",
              "      <th>job_unemployed</th>\n",
              "      <th>job_unknown</th>\n",
              "      <th>marital_divorced</th>\n",
              "      <th>marital_married</th>\n",
              "      <th>marital_single</th>\n",
              "      <th>contact_cellular</th>\n",
              "      <th>contact_telephone</th>\n",
              "      <th>contact_unknown</th>\n",
              "    </tr>\n",
              "  </thead>\n",
              "  <tbody>\n",
              "    <tr>\n",
              "      <th>0</th>\n",
              "      <td>3</td>\n",
              "      <td>0</td>\n",
              "      <td>1</td>\n",
              "      <td>0</td>\n",
              "      <td>0</td>\n",
              "      <td>0.758809</td>\n",
              "      <td>1.770427</td>\n",
              "      <td>0</td>\n",
              "      <td>0</td>\n",
              "      <td>0</td>\n",
              "      <td>0</td>\n",
              "      <td>1</td>\n",
              "      <td>0</td>\n",
              "      <td>0</td>\n",
              "      <td>0</td>\n",
              "      <td>0</td>\n",
              "      <td>0</td>\n",
              "      <td>0</td>\n",
              "      <td>0</td>\n",
              "      <td>0</td>\n",
              "      <td>1</td>\n",
              "      <td>0</td>\n",
              "      <td>0</td>\n",
              "      <td>0</td>\n",
              "      <td>1</td>\n",
              "    </tr>\n",
              "  </tbody>\n",
              "</table>\n",
              "</div>\n",
              "      <button class=\"colab-df-convert\" onclick=\"convertToInteractive('df-345573ee-241f-49e1-b821-ab059a9056e7')\"\n",
              "              title=\"Convert this dataframe to an interactive table.\"\n",
              "              style=\"display:none;\">\n",
              "        \n",
              "  <svg xmlns=\"http://www.w3.org/2000/svg\" height=\"24px\"viewBox=\"0 0 24 24\"\n",
              "       width=\"24px\">\n",
              "    <path d=\"M0 0h24v24H0V0z\" fill=\"none\"/>\n",
              "    <path d=\"M18.56 5.44l.94 2.06.94-2.06 2.06-.94-2.06-.94-.94-2.06-.94 2.06-2.06.94zm-11 1L8.5 8.5l.94-2.06 2.06-.94-2.06-.94L8.5 2.5l-.94 2.06-2.06.94zm10 10l.94 2.06.94-2.06 2.06-.94-2.06-.94-.94-2.06-.94 2.06-2.06.94z\"/><path d=\"M17.41 7.96l-1.37-1.37c-.4-.4-.92-.59-1.43-.59-.52 0-1.04.2-1.43.59L10.3 9.45l-7.72 7.72c-.78.78-.78 2.05 0 2.83L4 21.41c.39.39.9.59 1.41.59.51 0 1.02-.2 1.41-.59l7.78-7.78 2.81-2.81c.8-.78.8-2.07 0-2.86zM5.41 20L4 18.59l7.72-7.72 1.47 1.35L5.41 20z\"/>\n",
              "  </svg>\n",
              "      </button>\n",
              "      \n",
              "  <style>\n",
              "    .colab-df-container {\n",
              "      display:flex;\n",
              "      flex-wrap:wrap;\n",
              "      gap: 12px;\n",
              "    }\n",
              "\n",
              "    .colab-df-convert {\n",
              "      background-color: #E8F0FE;\n",
              "      border: none;\n",
              "      border-radius: 50%;\n",
              "      cursor: pointer;\n",
              "      display: none;\n",
              "      fill: #1967D2;\n",
              "      height: 32px;\n",
              "      padding: 0 0 0 0;\n",
              "      width: 32px;\n",
              "    }\n",
              "\n",
              "    .colab-df-convert:hover {\n",
              "      background-color: #E2EBFA;\n",
              "      box-shadow: 0px 1px 2px rgba(60, 64, 67, 0.3), 0px 1px 3px 1px rgba(60, 64, 67, 0.15);\n",
              "      fill: #174EA6;\n",
              "    }\n",
              "\n",
              "    [theme=dark] .colab-df-convert {\n",
              "      background-color: #3B4455;\n",
              "      fill: #D2E3FC;\n",
              "    }\n",
              "\n",
              "    [theme=dark] .colab-df-convert:hover {\n",
              "      background-color: #434B5C;\n",
              "      box-shadow: 0px 1px 3px 1px rgba(0, 0, 0, 0.15);\n",
              "      filter: drop-shadow(0px 1px 2px rgba(0, 0, 0, 0.3));\n",
              "      fill: #FFFFFF;\n",
              "    }\n",
              "  </style>\n",
              "\n",
              "      <script>\n",
              "        const buttonEl =\n",
              "          document.querySelector('#df-345573ee-241f-49e1-b821-ab059a9056e7 button.colab-df-convert');\n",
              "        buttonEl.style.display =\n",
              "          google.colab.kernel.accessAllowed ? 'block' : 'none';\n",
              "\n",
              "        async function convertToInteractive(key) {\n",
              "          const element = document.querySelector('#df-345573ee-241f-49e1-b821-ab059a9056e7');\n",
              "          const dataTable =\n",
              "            await google.colab.kernel.invokeFunction('convertToInteractive',\n",
              "                                                     [key], {});\n",
              "          if (!dataTable) return;\n",
              "\n",
              "          const docLinkHtml = 'Like what you see? Visit the ' +\n",
              "            '<a target=\"_blank\" href=https://colab.research.google.com/notebooks/data_table.ipynb>data table notebook</a>'\n",
              "            + ' to learn more about interactive tables.';\n",
              "          element.innerHTML = '';\n",
              "          dataTable['output_type'] = 'display_data';\n",
              "          await google.colab.output.renderOutput(dataTable, element);\n",
              "          const docLink = document.createElement('div');\n",
              "          docLink.innerHTML = docLinkHtml;\n",
              "          element.appendChild(docLink);\n",
              "        }\n",
              "      </script>\n",
              "    </div>\n",
              "  </div>\n",
              "  "
            ]
          },
          "metadata": {},
          "execution_count": 5
        }
      ],
      "source": [
        "df = pd.read_csv('drive/MyDrive/Colab Notebooks/Preprocessing Train2.csv')\n",
        "df.head(1)"
      ]
    },
    {
      "cell_type": "code",
      "execution_count": 6,
      "id": "8e748549",
      "metadata": {
        "id": "8e748549"
      },
      "outputs": [],
      "source": [
        "# Split Feature and Label\n",
        "X = df.drop(columns=['y'])\n",
        "y = df['y'] # target / label\n",
        "\n",
        "#Splitting the data into Train and Test\n",
        "from sklearn.model_selection import train_test_split \n",
        "X_train, X_test, y_train, y_test = train_test_split(X, y, test_size = 0.3, random_state = 42)"
      ]
    },
    {
      "cell_type": "code",
      "execution_count": 32,
      "id": "827dfd4a",
      "metadata": {
        "id": "827dfd4a"
      },
      "outputs": [],
      "source": [
        "from imblearn.over_sampling import SMOTE\n",
        "\n",
        "sm = SMOTE(1, random_state = 42)\n",
        "X_train_oversampled, y_train_oversampled = sm.fit_resample(X_train, y_train)\n",
        "X_train = pd.DataFrame(X_train_oversampled, columns=X_train.columns)\n",
        "y_train = pd.Series(y_train_oversampled)"
      ]
    },
    {
      "cell_type": "code",
      "execution_count": 33,
      "id": "60553cc0",
      "metadata": {
        "colab": {
          "base_uri": "https://localhost:8080/"
        },
        "id": "60553cc0",
        "outputId": "93ec0115-50ab-49f7-c807-760fa592f4f1"
      },
      "outputs": [
        {
          "output_type": "stream",
          "name": "stdout",
          "text": [
            "Shape of Training set :  (50084, 24)\n",
            "\n",
            "\n",
            "Shape of test set :  (12037, 24)\n",
            "\n",
            "\n",
            "Percentage of classes in training set:\n",
            " 0    50.0\n",
            "1    50.0\n",
            "Name: y, dtype: float64\n",
            "\n",
            "\n",
            "Percentage of classes in test set:\n",
            " 0    88.851043\n",
            "1    11.148957\n",
            "Name: y, dtype: float64\n"
          ]
        }
      ],
      "source": [
        "print('Shape of Training set : ',X_train.shape )\n",
        "print('\\n')\n",
        "print('Shape of test set : ',X_test.shape )\n",
        "print('\\n')\n",
        "print('Percentage of classes in training set:\\n',y_train.value_counts(normalize=True)*100)\n",
        "print('\\n')\n",
        "print('Percentage of classes in test set:\\n',y_test.value_counts(normalize=True)*100)"
      ]
    },
    {
      "cell_type": "markdown",
      "source": [
        "# 2. Modeling"
      ],
      "metadata": {
        "id": "1Y2U8vVLLDVU"
      },
      "id": "1Y2U8vVLLDVU"
    },
    {
      "cell_type": "markdown",
      "id": "3944af5a",
      "metadata": {
        "id": "3944af5a"
      },
      "source": [
        "## Logistic Regression"
      ]
    },
    {
      "cell_type": "markdown",
      "source": [
        "### Model Fitting"
      ],
      "metadata": {
        "id": "U-x-jlPfMVT3"
      },
      "id": "U-x-jlPfMVT3"
    },
    {
      "cell_type": "code",
      "execution_count": 34,
      "id": "8ac1ee65",
      "metadata": {
        "colab": {
          "base_uri": "https://localhost:8080/"
        },
        "id": "8ac1ee65",
        "outputId": "500f743b-4a71-416f-ab5c-17494430f0a0"
      },
      "outputs": [
        {
          "output_type": "execute_result",
          "data": {
            "text/plain": [
              "LogisticRegression()"
            ]
          },
          "metadata": {},
          "execution_count": 34
        }
      ],
      "source": [
        "from sklearn.linear_model import LogisticRegression\n",
        "model = LogisticRegression()\n",
        "model.fit(X_train, y_train)"
      ]
    },
    {
      "cell_type": "code",
      "execution_count": 35,
      "id": "d972c675",
      "metadata": {
        "colab": {
          "base_uri": "https://localhost:8080/"
        },
        "id": "d972c675",
        "outputId": "01928e07-1f33-4bbf-8cd4-e982c4526385"
      },
      "outputs": [
        {
          "output_type": "execute_result",
          "data": {
            "text/plain": [
              "array([0, 0, 0, ..., 1, 0, 0])"
            ]
          },
          "metadata": {},
          "execution_count": 35
        }
      ],
      "source": [
        "y_pred = model.predict(X_test)\n",
        "y_pred"
      ]
    },
    {
      "cell_type": "code",
      "execution_count": 36,
      "id": "a3388e58",
      "metadata": {
        "colab": {
          "base_uri": "https://localhost:8080/"
        },
        "id": "a3388e58",
        "outputId": "a8fbd1a6-718f-407e-aa64-d7edc52f4153"
      },
      "outputs": [
        {
          "output_type": "execute_result",
          "data": {
            "text/plain": [
              "array([[0.52511399, 0.47488601],\n",
              "       [0.80660488, 0.19339512],\n",
              "       [0.74823799, 0.25176201],\n",
              "       ...,\n",
              "       [0.44994796, 0.55005204],\n",
              "       [0.60557159, 0.39442841],\n",
              "       [0.59858308, 0.40141692]])"
            ]
          },
          "metadata": {},
          "execution_count": 36
        }
      ],
      "source": [
        "model.predict_proba(X_test)"
      ]
    },
    {
      "cell_type": "code",
      "execution_count": 37,
      "id": "a16f0ca2",
      "metadata": {
        "colab": {
          "base_uri": "https://localhost:8080/"
        },
        "id": "a16f0ca2",
        "outputId": "40ea2875-2d15-492e-a272-0124466e8a16"
      },
      "outputs": [
        {
          "output_type": "execute_result",
          "data": {
            "text/plain": [
              "array([1, 0, 0, ..., 1, 1, 1])"
            ]
          },
          "metadata": {},
          "execution_count": 37
        }
      ],
      "source": [
        "y_pred_train = model.predict(X_train)\n",
        "y_pred_train"
      ]
    },
    {
      "cell_type": "markdown",
      "id": "5223dd9e",
      "metadata": {
        "id": "5223dd9e"
      },
      "source": [
        "### Model Evaluation"
      ]
    },
    {
      "cell_type": "code",
      "execution_count": 38,
      "id": "60616887",
      "metadata": {
        "colab": {
          "base_uri": "https://localhost:8080/"
        },
        "id": "60616887",
        "outputId": "b3869899-9ac2-456a-a32b-3b847af66686"
      },
      "outputs": [
        {
          "output_type": "stream",
          "name": "stdout",
          "text": [
            "Accuracy on training set :  0.6762838431435189\n",
            "Accuracy on test set :  0.6477527623161917\n",
            "Recall on training set :  0.7074914144237681\n",
            "Recall on test set :  0.665424739195231\n",
            "Precision on training set :  0.6659274572448788\n",
            "Precision on test set :  0.19064901793339026\n",
            "F1 on training set :  0.6860805080643599\n",
            "F1 on test set :  0.29638234317955525\n",
            "ROC-AUC Score on training set :  0.6762838431435189\n",
            "ROC-AUC Score on test set :  0.655480018031463\n",
            "PR-AUC Score on training set :  0.6173922514179186\n",
            "PR-AUC Score on test set :  0.16416422627200924\n"
          ]
        },
        {
          "output_type": "execute_result",
          "data": {
            "text/plain": [
              "[0.6762838431435189,\n",
              " 0.6477527623161917,\n",
              " 0.7074914144237681,\n",
              " 0.665424739195231,\n",
              " 0.6659274572448788,\n",
              " 0.19064901793339026,\n",
              " 0.6860805080643599,\n",
              " 0.29638234317955525,\n",
              " array([1., 0., 0., ..., 1., 1., 1.], dtype=float16),\n",
              " array([0., 0., 0., ..., 1., 0., 0.], dtype=float16)]"
            ]
          },
          "metadata": {},
          "execution_count": 38
        }
      ],
      "source": [
        "# Model Evaluation\n",
        "y_pred = model.predict(X_test)\n",
        "eval_classification(model, X_train, y_train, X_test, y_test)"
      ]
    },
    {
      "cell_type": "markdown",
      "id": "2737e193",
      "metadata": {
        "id": "2737e193"
      },
      "source": [
        "### Hyperparameter Tuning"
      ]
    },
    {
      "cell_type": "code",
      "execution_count": 39,
      "id": "17d84e67",
      "metadata": {
        "id": "17d84e67"
      },
      "outputs": [],
      "source": [
        "scorer = metrics.make_scorer(metrics.recall_score)"
      ]
    },
    {
      "cell_type": "code",
      "execution_count": 40,
      "id": "716b61c9",
      "metadata": {
        "colab": {
          "base_uri": "https://localhost:8080/"
        },
        "id": "716b61c9",
        "outputId": "4a1447f6-c965-4a7c-fef4-4924c63b1096"
      },
      "outputs": [
        {
          "output_type": "stream",
          "name": "stdout",
          "text": [
            "Accuracy on training set :  0.6509863429438544\n",
            "Accuracy on test set :  0.6082911024341613\n",
            "Recall on training set :  0.7094880600591007\n",
            "Recall on test set :  0.698956780923994\n",
            "Precision on training set :  0.6351708851708852\n",
            "Precision on test set :  0.1787007048961707\n",
            "F1 on training set :  0.6702757762100577\n",
            "F1 on test set :  0.2846305568199059\n",
            "ROC-AUC Score on training set :  0.6509863429438544\n",
            "ROC-AUC Score on test set :  0.6479356134633996\n",
            "PR-AUC Score on training set :  0.5959021290963628\n",
            "PR-AUC Score on test set :  0.1584672496374767\n"
          ]
        },
        {
          "output_type": "execute_result",
          "data": {
            "text/plain": [
              "[0.6509863429438544,\n",
              " 0.6082911024341613,\n",
              " 0.7094880600591007,\n",
              " 0.698956780923994,\n",
              " 0.6351708851708852,\n",
              " 0.1787007048961707,\n",
              " 0.6702757762100577,\n",
              " 0.2846305568199059,\n",
              " array([1., 0., 0., ..., 1., 1., 1.], dtype=float16),\n",
              " array([1., 0., 0., ..., 0., 0., 1.], dtype=float16)]"
            ]
          },
          "metadata": {},
          "execution_count": 40
        }
      ],
      "source": [
        "from sklearn.model_selection import RandomizedSearchCV, GridSearchCV\n",
        "\n",
        "# List Hyperparameters yang akan diuji\n",
        "penalty = ['l2','l1','elasticnet']\n",
        "C = [0.0001, 0.001, 0.002] # Inverse of regularization strength; smaller values specify stronger regularization.\n",
        "hyperparameters = dict(penalty=penalty, C=C)\n",
        "\n",
        "logres = LogisticRegression(random_state=42, class_weight= 'balanced')\n",
        "model = RandomizedSearchCV(logres, hyperparameters, cv=5, random_state=42, scoring='recall')\n",
        "\n",
        "# Fitting Model & Evaluation\n",
        "model.fit(X_train, y_train)\n",
        "y_pred = model.predict(X_test)\n",
        "eval_classification(model, X_train, y_train, X_test, y_test)"
      ]
    },
    {
      "cell_type": "markdown",
      "source": [
        "## K-Nearest Neighbors"
      ],
      "metadata": {
        "id": "bQl-TZYyNkRe"
      },
      "id": "bQl-TZYyNkRe"
    },
    {
      "cell_type": "markdown",
      "source": [
        "### Model Fitting"
      ],
      "metadata": {
        "id": "Gvm87YWJOF_g"
      },
      "id": "Gvm87YWJOF_g"
    },
    {
      "cell_type": "code",
      "source": [
        "#Fit Model\n",
        "model = KNeighborsClassifier()\n",
        "model.fit(X_train, y_train)"
      ],
      "metadata": {
        "colab": {
          "base_uri": "https://localhost:8080/"
        },
        "id": "BEJGiJUZNjWS",
        "outputId": "9ad27ef4-d2fb-41e6-d168-11b18a23709e"
      },
      "id": "BEJGiJUZNjWS",
      "execution_count": 41,
      "outputs": [
        {
          "output_type": "execute_result",
          "data": {
            "text/plain": [
              "KNeighborsClassifier()"
            ]
          },
          "metadata": {},
          "execution_count": 41
        }
      ]
    },
    {
      "cell_type": "markdown",
      "source": [
        "### Model Evaluation"
      ],
      "metadata": {
        "id": "iOHpd8muOQxz"
      },
      "id": "iOHpd8muOQxz"
    },
    {
      "cell_type": "code",
      "source": [
        "# Model Evaluation\n",
        "y_pred = model.predict(X_test)\n",
        "eval_classification(model, X_train, y_train, X_test, y_test)"
      ],
      "metadata": {
        "colab": {
          "base_uri": "https://localhost:8080/"
        },
        "id": "Usdzr-jxOJox",
        "outputId": "8a1b392b-c8b4-4f13-a3fa-171f61c2bbac"
      },
      "id": "Usdzr-jxOJox",
      "execution_count": 42,
      "outputs": [
        {
          "output_type": "stream",
          "name": "stdout",
          "text": [
            "Accuracy on training set :  0.8680217235045125\n",
            "Accuracy on test set :  0.7120544986292265\n",
            "Recall on training set :  0.9129462502994968\n",
            "Recall on test set :  0.46795827123695977\n",
            "Precision on training set :  0.837681371830573\n",
            "Precision on test set :  0.18579881656804734\n",
            "F1 on training set :  0.8736958764856498\n",
            "F1 on test set :  0.265988987717069\n",
            "ROC-AUC Score on training set :  0.8680217235045125\n",
            "ROC-AUC Score on test set :  0.6053208840990784\n",
            "PR-AUC Score on training set :  0.8082849422087117\n",
            "PR-AUC Score on test set :  0.14626319859015055\n"
          ]
        },
        {
          "output_type": "execute_result",
          "data": {
            "text/plain": [
              "[0.8680217235045125,\n",
              " 0.7120544986292265,\n",
              " 0.9129462502994968,\n",
              " 0.46795827123695977,\n",
              " 0.837681371830573,\n",
              " 0.18579881656804734,\n",
              " 0.8736958764856498,\n",
              " 0.265988987717069,\n",
              " array([0., 0., 0., ..., 1., 1., 0.], dtype=float16),\n",
              " array([1., 0., 0., ..., 0., 0., 0.], dtype=float16)]"
            ]
          },
          "metadata": {},
          "execution_count": 42
        }
      ]
    },
    {
      "cell_type": "markdown",
      "source": [
        "### Hyperparameter Tuning"
      ],
      "metadata": {
        "id": "44NQoM3zOUjq"
      },
      "id": "44NQoM3zOUjq"
    },
    {
      "cell_type": "code",
      "source": [
        "# List of hyperparameter\n",
        "n_neighbors = list(range(222,224))\n",
        "p=[1,2]\n",
        "algorithm = ['auto', 'ball_tree', 'kd_tree', 'brute']\n",
        "weights=['uniform', 'distance']\n",
        "hyperparameters = dict(n_neighbors=n_neighbors, p=p, algorithm=algorithm)\n",
        "\n",
        "# Init model\n",
        "knn = KNeighborsClassifier()\n",
        "model_tuning = RandomizedSearchCV(knn, hyperparameters, cv=5, random_state=42, scoring='recall')\n",
        "model_tuning.fit(X_train, y_train)\n",
        "\n",
        "eval_classification(model_tuning, X_train, y_train, X_test, y_test)"
      ],
      "metadata": {
        "colab": {
          "base_uri": "https://localhost:8080/"
        },
        "id": "Skc0fFRjOZnj",
        "outputId": "df790460-d6d6-4964-c7a7-38339085581e"
      },
      "id": "Skc0fFRjOZnj",
      "execution_count": 43,
      "outputs": [
        {
          "output_type": "stream",
          "name": "stdout",
          "text": [
            "Accuracy on training set :  0.6707531347336475\n",
            "Accuracy on test set :  0.6161003572318684\n",
            "Recall on training set :  0.7341666001118121\n",
            "Recall on test set :  0.6736214605067065\n",
            "Precision on training set :  0.6515344815366079\n",
            "Precision on test set :  0.17770788283860822\n",
            "F1 on training set :  0.6903867818250093\n",
            "F1 on test set :  0.2812256960647068\n",
            "ROC-AUC Score on training set :  0.6707531347336474\n",
            "ROC-AUC Score on test set :  0.6412520579765884\n",
            "PR-AUC Score on training set :  0.6112515551094375\n",
            "PR-AUC Score on test set :  0.15609564785146493\n"
          ]
        },
        {
          "output_type": "execute_result",
          "data": {
            "text/plain": [
              "[0.6707531347336475,\n",
              " 0.6161003572318684,\n",
              " 0.7341666001118121,\n",
              " 0.6736214605067065,\n",
              " 0.6515344815366079,\n",
              " 0.17770788283860822,\n",
              " 0.6903867818250093,\n",
              " 0.2812256960647068,\n",
              " array([1., 0., 0., ..., 1., 1., 0.], dtype=float16),\n",
              " array([1., 0., 0., ..., 0., 0., 1.], dtype=float16)]"
            ]
          },
          "metadata": {},
          "execution_count": 43
        }
      ]
    },
    {
      "cell_type": "code",
      "source": [
        "# List of hyperparameter\n",
        "n_neighbors = list(range(222,224))\n",
        "p=[1,2]\n",
        "algorithm = ['auto', 'ball_tree', 'kd_tree', 'brute']\n",
        "hyperparameters = dict(n_neighbors=n_neighbors, p=p, algorithm=algorithm)\n",
        "scorer = metrics.make_scorer(metrics.recall_score)\n",
        "\n",
        "# Init model\n",
        "knnt = KNeighborsClassifier()\n",
        "grid_obj = GridSearchCV(knnt, hyperparameters, scoring=scorer,n_jobs=-1)\n",
        "grid_obj = grid_obj.fit(X_train, y_train)\n",
        "knnt = grid_obj.best_estimator_\n",
        "\n",
        "knnt.fit(X_train, y_train)\n",
        "knnt_score = eval_classification(knnt, X_train, y_train, X_test, y_test)"
      ],
      "metadata": {
        "colab": {
          "base_uri": "https://localhost:8080/"
        },
        "id": "0ZfL0YUCOyON",
        "outputId": "13d2d829-b715-49bd-bdd7-fa53298c42dd"
      },
      "id": "0ZfL0YUCOyON",
      "execution_count": 50,
      "outputs": [
        {
          "output_type": "stream",
          "name": "stdout",
          "text": [
            "Accuracy on training set :  0.6707531347336475\n",
            "Accuracy on test set :  0.6161003572318684\n",
            "Recall on training set :  0.7341666001118121\n",
            "Recall on test set :  0.6736214605067065\n",
            "Precision on training set :  0.6515344815366079\n",
            "Precision on test set :  0.17770788283860822\n",
            "F1 on training set :  0.6903867818250093\n",
            "F1 on test set :  0.2812256960647068\n",
            "ROC-AUC Score on training set :  0.6707531347336474\n",
            "ROC-AUC Score on test set :  0.6412520579765884\n",
            "PR-AUC Score on training set :  0.6112515551094375\n",
            "PR-AUC Score on test set :  0.15609564785146493\n"
          ]
        }
      ]
    },
    {
      "cell_type": "markdown",
      "id": "6b2007ab-ac26-447e-b190-30d971187846",
      "metadata": {
        "id": "6b2007ab-ac26-447e-b190-30d971187846"
      },
      "source": [
        "## Decision Tree"
      ]
    },
    {
      "cell_type": "markdown",
      "id": "b025ccbd-4d61-4678-8110-61a180d47452",
      "metadata": {
        "id": "b025ccbd-4d61-4678-8110-61a180d47452"
      },
      "source": [
        "### Model Fitting & Evaluation"
      ]
    },
    {
      "cell_type": "code",
      "execution_count": 44,
      "id": "ed967efa-8de6-4a96-918a-9efeb53f63e6",
      "metadata": {
        "colab": {
          "base_uri": "https://localhost:8080/"
        },
        "id": "ed967efa-8de6-4a96-918a-9efeb53f63e6",
        "outputId": "6866c946-047e-4e45-a128-5d07bfaa274b"
      },
      "outputs": [
        {
          "output_type": "stream",
          "name": "stdout",
          "text": [
            "Accuracy on training set :  0.9946090567846019\n",
            "Accuracy on test set :  0.7759408490487663\n",
            "Recall on training set :  0.9902963022122834\n",
            "Recall on test set :  0.3442622950819672\n",
            "Precision on training set :  0.9989124305163941\n",
            "Precision on test set :  0.20272049144361562\n",
            "F1 on training set :  0.9945857062645385\n",
            "F1 on test set :  0.2551781275890638\n",
            "ROC-AUC Score on training set :  0.9946090567846019\n",
            "ROC-AUC Score on test set :  0.5871849109818438\n",
            "PR-AUC Score on training set :  0.9940711350681279\n",
            "PR-AUC Score on test set :  0.14289693889965344\n"
          ]
        },
        {
          "output_type": "execute_result",
          "data": {
            "text/plain": [
              "[0.9946090567846019,\n",
              " 0.7759408490487663,\n",
              " 0.9902963022122834,\n",
              " 0.3442622950819672,\n",
              " 0.9989124305163941,\n",
              " 0.20272049144361562,\n",
              " 0.9945857062645385,\n",
              " 0.2551781275890638,\n",
              " array([0., 0., 0., ..., 1., 1., 1.], dtype=float16),\n",
              " array([1., 0., 1., ..., 0., 0., 0.], dtype=float16)]"
            ]
          },
          "metadata": {},
          "execution_count": 44
        }
      ],
      "source": [
        "from sklearn.tree import DecisionTreeClassifier\n",
        "model = DecisionTreeClassifier(random_state=42)\n",
        "model.fit(X_train,y_train)\n",
        "y_pred = model.predict(X_test)\n",
        "y_pred_train = model.predict(X_train)\n",
        "eval_classification(model, X_train, y_train, X_test, y_test)"
      ]
    },
    {
      "cell_type": "markdown",
      "id": "31b751b2-6240-4dcf-8f81-a7244b725ba1",
      "metadata": {
        "id": "31b751b2-6240-4dcf-8f81-a7244b725ba1"
      },
      "source": [
        "### Hyperparameter Tuning"
      ]
    },
    {
      "cell_type": "code",
      "execution_count": 45,
      "id": "620e1c44-e3ee-4433-b7b8-68c85a40313d",
      "metadata": {
        "colab": {
          "base_uri": "https://localhost:8080/"
        },
        "id": "620e1c44-e3ee-4433-b7b8-68c85a40313d",
        "outputId": "0c9c1fd0-5388-4665-a11d-922966999843"
      },
      "outputs": [
        {
          "output_type": "stream",
          "name": "stdout",
          "text": [
            "Accuracy on training set :  0.5093842344860634\n",
            "Accuracy on test set :  0.12918501287696268\n",
            "Recall on training set :  0.9997204696110534\n",
            "Recall on test set :  0.996274217585693\n",
            "Precision on training set :  0.5047379032258065\n",
            "Precision on test set :  0.11317081428813272\n",
            "F1 on training set :  0.6708019613622358\n",
            "F1 on test set :  0.20325326847065975\n",
            "ROC-AUC Score on training set :  0.5093842344860634\n",
            "ROC-AUC Score on test set :  0.5083287871472176\n",
            "PR-AUC Score on training set :  0.504736578837875\n",
            "PR-AUC Score on test set :  0.11316455035194026\n"
          ]
        },
        {
          "output_type": "execute_result",
          "data": {
            "text/plain": [
              "[0.5093842344860634,\n",
              " 0.12918501287696268,\n",
              " 0.9997204696110534,\n",
              " 0.996274217585693,\n",
              " 0.5047379032258065,\n",
              " 0.11317081428813272,\n",
              " 0.6708019613622358,\n",
              " 0.20325326847065975,\n",
              " array([1., 1., 1., ..., 1., 1., 1.], dtype=float16),\n",
              " array([1., 1., 1., ..., 1., 1., 1.], dtype=float16)]"
            ]
          },
          "metadata": {},
          "execution_count": 45
        }
      ],
      "source": [
        "from sklearn.model_selection import RandomizedSearchCV\n",
        "from scipy.stats import uniform\n",
        "import numpy as np\n",
        "\n",
        "\n",
        "# List of hyperparameter\n",
        "max_depth = [int(x) for x in np.linspace(1, 110, num = 30)] # Maximum number of levels in tree\n",
        "min_samples_split = [2, 5, 10, 100] # Minimum number of samples required to split a node\n",
        "min_samples_leaf = [1, 2, 4, 10, 20, 50] # Minimum number of samples required at each leaf node\n",
        "max_features = ['auto', 'sqrt'] # Number of features to consider at every split\n",
        "\n",
        "\n",
        "hyperparameters = dict(max_depth=max_depth, \n",
        "                       min_samples_split=min_samples_split, \n",
        "                       min_samples_leaf=min_samples_leaf,\n",
        "                       max_features=max_features\n",
        "                      )\n",
        "\n",
        "# Inisialisasi Model\n",
        "dt = DecisionTreeClassifier(random_state=42, class_weight={0:0.03,1:0.97})\n",
        "model = RandomizedSearchCV(dt, hyperparameters, cv=5, random_state=42, scoring='recall')\n",
        "model.fit(X_train, y_train)\n",
        "\n",
        "# Predict & Evaluation\n",
        "y_pred = model.predict(X_test)#Check performa dari model\n",
        "eval_classification(model, X_train, y_train, X_test, y_test)"
      ]
    },
    {
      "cell_type": "markdown",
      "id": "69369b93-59db-40f8-b7e1-4d1e756ef184",
      "metadata": {
        "id": "69369b93-59db-40f8-b7e1-4d1e756ef184"
      },
      "source": [
        "## Random Forest"
      ]
    },
    {
      "cell_type": "markdown",
      "id": "f74f124e-cffc-43bf-9ea0-f4f0814f0931",
      "metadata": {
        "id": "f74f124e-cffc-43bf-9ea0-f4f0814f0931"
      },
      "source": [
        "### Model Fitting & Evaluation"
      ]
    },
    {
      "cell_type": "code",
      "execution_count": 47,
      "id": "07514178-7528-452c-86f8-a9c53a171435",
      "metadata": {
        "colab": {
          "base_uri": "https://localhost:8080/"
        },
        "id": "07514178-7528-452c-86f8-a9c53a171435",
        "outputId": "603b0bed-55fa-498c-81c6-c973fe5c61ee"
      },
      "outputs": [
        {
          "output_type": "stream",
          "name": "stdout",
          "text": [
            "Accuracy on training set :  0.9945691238718952\n",
            "Accuracy on test set :  0.795380908864335\n",
            "Recall on training set :  0.9949684529989617\n",
            "Recall on test set :  0.3740685543964232\n",
            "Precision on training set :  0.9941744473705211\n",
            "Precision on test set :  0.23623529411764707\n",
            "F1 on training set :  0.9945712917132365\n",
            "F1 on test set :  0.2895875396596481\n",
            "ROC-AUC Score on training set :  0.9945691238718952\n",
            "ROC-AUC Score on test set :  0.6111576993580995\n",
            "PR-AUC Score on training set :  0.9916879854118642\n",
            "PR-AUC Score on test set :  0.15815302507517165\n"
          ]
        },
        {
          "output_type": "execute_result",
          "data": {
            "text/plain": [
              "[0.9945691238718952,\n",
              " 0.795380908864335,\n",
              " 0.9949684529989617,\n",
              " 0.3740685543964232,\n",
              " 0.9941744473705211,\n",
              " 0.23623529411764707,\n",
              " 0.9945712917132365,\n",
              " 0.2895875396596481,\n",
              " array([0., 0., 0., ..., 1., 1., 1.], dtype=float16),\n",
              " array([1., 0., 0., ..., 0., 0., 0.], dtype=float16)]"
            ]
          },
          "metadata": {},
          "execution_count": 47
        }
      ],
      "source": [
        "rf = RandomForestClassifier(random_state=42)\n",
        "rf.fit(X_train,y_train)\n",
        "eval_classification(rf, X_train, y_train, X_test, y_test)"
      ]
    },
    {
      "cell_type": "markdown",
      "id": "98f1f0ac-a3c1-4dcc-bb3e-26937411e969",
      "metadata": {
        "id": "98f1f0ac-a3c1-4dcc-bb3e-26937411e969"
      },
      "source": [
        "### Hyperparameter Tuning"
      ]
    },
    {
      "cell_type": "code",
      "execution_count": 48,
      "id": "9f1627cf-abc4-4e53-9db9-b48010bdc54a",
      "metadata": {
        "colab": {
          "base_uri": "https://localhost:8080/"
        },
        "id": "9f1627cf-abc4-4e53-9db9-b48010bdc54a",
        "outputId": "1dc55a30-4f48-4fd6-cef3-1e6c373a980c"
      },
      "outputs": [
        {
          "output_type": "stream",
          "name": "stdout",
          "text": [
            "Accuracy on training set :  0.5038934589888987\n",
            "Accuracy on test set :  0.11688959042950901\n",
            "Recall on training set :  1.0\n",
            "Recall on test set :  0.9992548435171386\n",
            "Precision on training set :  0.5019543386317625\n",
            "Precision on test set :  0.11203007518796992\n",
            "F1 on training set :  0.668401596135111\n",
            "F1 on test set :  0.20147235576923078\n",
            "ROC-AUC Score on training set :  0.5038934589888986\n",
            "ROC-AUC Score on test set :  0.5027129757557642\n",
            "PR-AUC Score on training set :  0.5019543386317625\n",
            "PR-AUC Score on test set :  0.11202967242986717\n"
          ]
        },
        {
          "output_type": "execute_result",
          "data": {
            "text/plain": [
              "[0.5038934589888987,\n",
              " 0.11688959042950901,\n",
              " 1.0,\n",
              " 0.9992548435171386,\n",
              " 0.5019543386317625,\n",
              " 0.11203007518796992,\n",
              " 0.668401596135111,\n",
              " 0.20147235576923078,\n",
              " array([1., 1., 1., ..., 1., 1., 1.], dtype=float16),\n",
              " array([1., 1., 1., ..., 1., 1., 1.], dtype=float16)]"
            ]
          },
          "metadata": {},
          "execution_count": 48
        }
      ],
      "source": [
        "from sklearn.model_selection import RandomizedSearchCV\n",
        "\n",
        "#List Hyperparameters yang akan diuji\n",
        "hyperparameters = dict(\n",
        "                       n_estimators = [int(x) for x in np.linspace(start = 100, stop = 2000, num = 20)], # Jumlah subtree \n",
        "                       bootstrap = [True], # Apakah pakai bootstrapping atau tidak\n",
        "                       criterion = ['gini','entropy'],\n",
        "                       max_depth = [int(x) for x in np.linspace(10, 110, num = 11)],  # Maximum kedalaman tree\n",
        "                       min_samples_split = [int(x) for x in np.linspace(start = 2, stop = 10, num = 5)], # Jumlah minimum samples pada node agar boleh di split menjadi leaf baru\n",
        "                       min_samples_leaf = [int(x) for x in np.linspace(start = 1, stop = 10, num = 5)], # Jumlah minimum samples pada leaf agar boleh terbentuk leaf baru\n",
        "                       max_features = ['auto', 'sqrt', 'log2'], # Jumlah feature yg dipertimbangkan pada masing-masing split\n",
        "                       n_jobs = [-1], # Core untuk parallel computation. -1 untuk menggunakan semua core\n",
        "                      )\n",
        "\n",
        "# Init\n",
        "rf = RandomForestClassifier(random_state=42,class_weight={0:0.02,1:0.98})\n",
        "rf_tuned = RandomizedSearchCV(rf, hyperparameters, cv=5, random_state=42, scoring='recall')\n",
        "rf_tuned.fit(X_train,y_train)\n",
        "\n",
        "# Predict & Evaluation\n",
        "eval_classification(rf_tuned, X_train, y_train, X_test, y_test)"
      ]
    },
    {
      "cell_type": "markdown",
      "source": [
        "# Feature Importance\n",
        "(yang digunakan adalah Decision Tree)"
      ],
      "metadata": {
        "id": "6JHvmItQPGh9"
      },
      "id": "6JHvmItQPGh9"
    },
    {
      "cell_type": "markdown",
      "source": [
        "## Decision Tree"
      ],
      "metadata": {
        "id": "ImlCwWDVPHns"
      },
      "id": "ImlCwWDVPHns"
    },
    {
      "cell_type": "code",
      "execution_count": 46,
      "id": "a0fa7040-6fc9-40b6-a866-0e49453a9105",
      "metadata": {
        "colab": {
          "base_uri": "https://localhost:8080/",
          "height": 531
        },
        "id": "a0fa7040-6fc9-40b6-a866-0e49453a9105",
        "outputId": "43f4e087-c470-4187-9b1d-5793b0158b2a"
      },
      "outputs": [
        {
          "output_type": "execute_result",
          "data": {
            "text/plain": [
              "Text(0.5, 1.0, 'feature importance score')"
            ]
          },
          "metadata": {},
          "execution_count": 46
        },
        {
          "output_type": "display_data",
          "data": {
            "text/plain": [
              "<Figure size 720x576 with 1 Axes>"
            ],
            "image/png": "[encoded data removed]"
          },
          "metadata": {
            "needs_background": "light"
          }
        }
      ],
      "source": [
        "feat_importances = pd.Series(model.best_estimator_.feature_importances_, index=X.columns)\n",
        "ax = feat_importances.nlargest(25).plot(kind='barh', figsize=(10, 8))\n",
        "ax.invert_yaxis()\n",
        "\n",
        "plt.xlabel('score')\n",
        "plt.ylabel('feature')\n",
        "plt.title('feature importance score')"
      ]
    },
    {
      "cell_type": "markdown",
      "source": [
        "### Insights & Recommendations"
      ],
      "metadata": {
        "id": "QU6PSrs8QBI6"
      },
      "id": "QU6PSrs8QBI6"
    },
    {
      "cell_type": "markdown",
      "source": [
        "Insights:\n",
        "- Jumlah saldo, usia, dan pendidikan merupakan tiga fitur yang memiliki kekuatan prediktif mencapai 50%. Sisa 50%-nya terbagi ke 21 fitur lainnya.\n",
        "- Pensiunan atau tidak, tidak memengaruhi pengambilan deposito baru.\n",
        "- Pekerja kerah biru, ART, administrasi, dan sektor jasa memiliki jauh lebih besar kemungkinan mengambil deposito baru dibanding jenis pekerja lainnya.\n",
        "- Orang yang belum pernah menikah lebih potensial dibanding yang sudah menikah atau cerai.\n",
        "- Pemilik telepon seluler jauh lebih potensial dibanding yang tidak.\n",
        "- Kepemilikan pembiayaan, seperti kredit rumah dan lainnya cukup memengaruhi keputusan pengambilan deposito baru.\n",
        "\n",
        "Recommendations:\n",
        "- Mendapatkan info jumlah saldo, usia, dan pendidikan harus menjadi prioritas.\n",
        "- Pusatkan calling experience pada telepon seluler.\n",
        "- Kemas produk deposito yang lebih menarik bagi pekerja lapangan.\n",
        "- Pahami kebutuhan finansial orang-orang yang masih lajang karena merupakan pangsa pasar yang berpotensi lebih besar untuk berkembang dibanding yang sudah berkeluarga."
      ],
      "metadata": {
        "id": "PxMV91U9QFcE"
      },
      "id": "PxMV91U9QFcE"
    },
    {
      "cell_type": "markdown",
      "source": [
        "## Random Forest"
      ],
      "metadata": {
        "id": "cJHk2WBZPJ4H"
      },
      "id": "cJHk2WBZPJ4H"
    },
    {
      "cell_type": "code",
      "execution_count": 49,
      "id": "79744a0d-5871-425c-ad88-488890cfc185",
      "metadata": {
        "colab": {
          "base_uri": "https://localhost:8080/",
          "height": 513
        },
        "id": "79744a0d-5871-425c-ad88-488890cfc185",
        "outputId": "47d11890-7358-44a2-a8e6-c61f3d87b381"
      },
      "outputs": [
        {
          "output_type": "display_data",
          "data": {
            "text/plain": [
              "<Figure size 720x576 with 1 Axes>"
            ],
            "image/png": "[encoded data removed]"
          },
          "metadata": {
            "needs_background": "light"
          }
        }
      ],
      "source": [
        "show_feature_importance(rf_tuned.best_estimator_)"
      ]
    }
  ],
  "metadata": {
    "colab": {
      "name": "Stage 3 - Source Code - Fantastic Four.ipynb",
      "provenance": [],
      "include_colab_link": true
    },
    "kernelspec": {
      "display_name": "Python 3 (ipykernel)",
      "language": "python",
      "name": "python3"
    },
    "language_info": {
      "codemirror_mode": {
        "name": "ipython",
        "version": 3
      },
      "file_extension": ".py",
      "mimetype": "text/x-python",
      "name": "python",
      "nbconvert_exporter": "python",
      "pygments_lexer": "ipython3",
      "version": "3.9.7"
    },
    "toc-showmarkdowntxt": false
  },
  "nbformat": 4,
  "nbformat_minor": 5
}