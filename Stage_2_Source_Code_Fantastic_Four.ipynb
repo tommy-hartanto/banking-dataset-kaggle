{
  "cells": [
    {
      "cell_type": "markdown",
      "metadata": {
        "id": "view-in-github",
        "colab_type": "text"
      },
      "source": [
        "<a href=\"https://colab.research.google.com/github/tommy-hartanto/rakamin/blob/main/Stage_2_Source_Code_Fantastic_Four.ipynb\" target=\"_parent\"><img src=\"https://colab.research.google.com/assets/colab-badge.svg\" alt=\"Open In Colab\"/></a>"
      ]
    },
    {
      "cell_type": "code",
      "execution_count": null,
      "id": "ad14c0b6-6068-48e4-9390-6e2f04eb97a7",
      "metadata": {
        "colab": {
          "base_uri": "https://localhost:8080/"
        },
        "id": "ad14c0b6-6068-48e4-9390-6e2f04eb97a7",
        "outputId": "60950e0f-d523-4a06-b1f0-5c999a4c5b92"
      },
      "outputs": [
        {
          "name": "stdout",
          "output_type": "stream",
          "text": [
            "numpy version :  1.20.3\n",
            "pandas version :  1.3.4\n",
            "seaborn version :  0.11.2\n"
          ]
        }
      ],
      "source": [
        "import pandas as pd\n",
        "import numpy as np\n",
        "import matplotlib.pyplot as plt\n",
        "import seaborn as sns\n",
        "import warnings\n",
        "from scipy import stats\n",
        "from sklearn.preprocessing import MinMaxScaler, StandardScaler\n",
        "warnings.filterwarnings('ignore')\n",
        "import sys\n",
        "from imblearn import under_sampling, over_sampling\n",
        "\n",
        "print('numpy version : ',np.__version__)\n",
        "print('pandas version : ',pd.__version__)\n",
        "print('seaborn version : ',sns.__version__)"
      ]
    },
    {
      "cell_type": "code",
      "execution_count": null,
      "id": "22bb7345-8a9e-4e9f-b9b5-cbf65a160137",
      "metadata": {
        "colab": {
          "base_uri": "https://localhost:8080/",
          "height": 145
        },
        "id": "22bb7345-8a9e-4e9f-b9b5-cbf65a160137",
        "outputId": "8b9e2b15-f8fe-4800-c072-c63b7d83e111"
      },
      "outputs": [
        {
          "data": {
            "text/html": [
              "<div>\n",
              "<style scoped>\n",
              "    .dataframe tbody tr th:only-of-type {\n",
              "        vertical-align: middle;\n",
              "    }\n",
              "\n",
              "    .dataframe tbody tr th {\n",
              "        vertical-align: top;\n",
              "    }\n",
              "\n",
              "    .dataframe thead th {\n",
              "        text-align: right;\n",
              "    }\n",
              "</style>\n",
              "<table border=\"1\" class=\"dataframe\">\n",
              "  <thead>\n",
              "    <tr style=\"text-align: right;\">\n",
              "      <th></th>\n",
              "      <th>age</th>\n",
              "      <th>job</th>\n",
              "      <th>marital</th>\n",
              "      <th>education</th>\n",
              "      <th>default</th>\n",
              "      <th>balance</th>\n",
              "      <th>housing</th>\n",
              "      <th>loan</th>\n",
              "      <th>contact</th>\n",
              "      <th>day</th>\n",
              "      <th>month</th>\n",
              "      <th>duration</th>\n",
              "      <th>campaign</th>\n",
              "      <th>pdays</th>\n",
              "      <th>previous</th>\n",
              "      <th>poutcome</th>\n",
              "      <th>y</th>\n",
              "    </tr>\n",
              "  </thead>\n",
              "  <tbody>\n",
              "    <tr>\n",
              "      <th>0</th>\n",
              "      <td>58</td>\n",
              "      <td>management</td>\n",
              "      <td>married</td>\n",
              "      <td>tertiary</td>\n",
              "      <td>no</td>\n",
              "      <td>2143</td>\n",
              "      <td>yes</td>\n",
              "      <td>no</td>\n",
              "      <td>unknown</td>\n",
              "      <td>5</td>\n",
              "      <td>may</td>\n",
              "      <td>261</td>\n",
              "      <td>1</td>\n",
              "      <td>-1</td>\n",
              "      <td>0</td>\n",
              "      <td>unknown</td>\n",
              "      <td>no</td>\n",
              "    </tr>\n",
              "  </tbody>\n",
              "</table>\n",
              "</div>"
            ],
            "text/plain": [
              "   age         job  marital education default  balance housing loan  contact  \\\n",
              "0   58  management  married  tertiary      no     2143     yes   no  unknown   \n",
              "\n",
              "   day month  duration  campaign  pdays  previous poutcome   y  \n",
              "0    5   may       261         1     -1         0  unknown  no  "
            ]
          },
          "execution_count": 2,
          "metadata": {},
          "output_type": "execute_result"
        }
      ],
      "source": [
        "df = pd.read_csv('bank/train.csv', sep=';')\n",
        "df.head(1)"
      ]
    },
    {
      "cell_type": "code",
      "execution_count": null,
      "id": "efae1d51-0b68-4f30-9978-5c956d1f7f1b",
      "metadata": {
        "id": "efae1d51-0b68-4f30-9978-5c956d1f7f1b",
        "outputId": "8df72a1f-7416-45ad-ffa7-86cfc49d2017"
      },
      "outputs": [
        {
          "name": "stdout",
          "output_type": "stream",
          "text": [
            "<class 'pandas.core.frame.DataFrame'>\n",
            "RangeIndex: 45211 entries, 0 to 45210\n",
            "Data columns (total 17 columns):\n",
            " #   Column     Non-Null Count  Dtype \n",
            "---  ------     --------------  ----- \n",
            " 0   age        45211 non-null  int64 \n",
            " 1   job        45211 non-null  object\n",
            " 2   marital    45211 non-null  object\n",
            " 3   education  45211 non-null  object\n",
            " 4   default    45211 non-null  object\n",
            " 5   balance    45211 non-null  int64 \n",
            " 6   housing    45211 non-null  object\n",
            " 7   loan       45211 non-null  object\n",
            " 8   contact    45211 non-null  object\n",
            " 9   day        45211 non-null  int64 \n",
            " 10  month      45211 non-null  object\n",
            " 11  duration   45211 non-null  int64 \n",
            " 12  campaign   45211 non-null  int64 \n",
            " 13  pdays      45211 non-null  int64 \n",
            " 14  previous   45211 non-null  int64 \n",
            " 15  poutcome   45211 non-null  object\n",
            " 16  y          45211 non-null  object\n",
            "dtypes: int64(7), object(10)\n",
            "memory usage: 5.9+ MB\n"
          ]
        }
      ],
      "source": [
        "df.info()"
      ]
    },
    {
      "cell_type": "code",
      "execution_count": null,
      "id": "e0c2eb64-c031-44fe-b607-671ee65c21b8",
      "metadata": {
        "id": "e0c2eb64-c031-44fe-b607-671ee65c21b8",
        "outputId": "e2cd50de-d066-4f84-a7fe-34efffcc4601"
      },
      "outputs": [
        {
          "data": {
            "text/html": [
              "<div>\n",
              "<style scoped>\n",
              "    .dataframe tbody tr th:only-of-type {\n",
              "        vertical-align: middle;\n",
              "    }\n",
              "\n",
              "    .dataframe tbody tr th {\n",
              "        vertical-align: top;\n",
              "    }\n",
              "\n",
              "    .dataframe thead th {\n",
              "        text-align: right;\n",
              "    }\n",
              "</style>\n",
              "<table border=\"1\" class=\"dataframe\">\n",
              "  <thead>\n",
              "    <tr style=\"text-align: right;\">\n",
              "      <th></th>\n",
              "      <th>age</th>\n",
              "      <th>balance</th>\n",
              "      <th>day</th>\n",
              "      <th>duration</th>\n",
              "      <th>campaign</th>\n",
              "      <th>pdays</th>\n",
              "      <th>previous</th>\n",
              "    </tr>\n",
              "  </thead>\n",
              "  <tbody>\n",
              "    <tr>\n",
              "      <th>count</th>\n",
              "      <td>45211.000000</td>\n",
              "      <td>45211.000000</td>\n",
              "      <td>45211.000000</td>\n",
              "      <td>45211.000000</td>\n",
              "      <td>45211.000000</td>\n",
              "      <td>45211.000000</td>\n",
              "      <td>45211.000000</td>\n",
              "    </tr>\n",
              "    <tr>\n",
              "      <th>mean</th>\n",
              "      <td>40.936210</td>\n",
              "      <td>1362.272058</td>\n",
              "      <td>15.806419</td>\n",
              "      <td>258.163080</td>\n",
              "      <td>2.763841</td>\n",
              "      <td>40.197828</td>\n",
              "      <td>0.580323</td>\n",
              "    </tr>\n",
              "    <tr>\n",
              "      <th>std</th>\n",
              "      <td>10.618762</td>\n",
              "      <td>3044.765829</td>\n",
              "      <td>8.322476</td>\n",
              "      <td>257.527812</td>\n",
              "      <td>3.098021</td>\n",
              "      <td>100.128746</td>\n",
              "      <td>2.303441</td>\n",
              "    </tr>\n",
              "    <tr>\n",
              "      <th>min</th>\n",
              "      <td>18.000000</td>\n",
              "      <td>-8019.000000</td>\n",
              "      <td>1.000000</td>\n",
              "      <td>0.000000</td>\n",
              "      <td>1.000000</td>\n",
              "      <td>-1.000000</td>\n",
              "      <td>0.000000</td>\n",
              "    </tr>\n",
              "    <tr>\n",
              "      <th>25%</th>\n",
              "      <td>33.000000</td>\n",
              "      <td>72.000000</td>\n",
              "      <td>8.000000</td>\n",
              "      <td>103.000000</td>\n",
              "      <td>1.000000</td>\n",
              "      <td>-1.000000</td>\n",
              "      <td>0.000000</td>\n",
              "    </tr>\n",
              "    <tr>\n",
              "      <th>50%</th>\n",
              "      <td>39.000000</td>\n",
              "      <td>448.000000</td>\n",
              "      <td>16.000000</td>\n",
              "      <td>180.000000</td>\n",
              "      <td>2.000000</td>\n",
              "      <td>-1.000000</td>\n",
              "      <td>0.000000</td>\n",
              "    </tr>\n",
              "    <tr>\n",
              "      <th>75%</th>\n",
              "      <td>48.000000</td>\n",
              "      <td>1428.000000</td>\n",
              "      <td>21.000000</td>\n",
              "      <td>319.000000</td>\n",
              "      <td>3.000000</td>\n",
              "      <td>-1.000000</td>\n",
              "      <td>0.000000</td>\n",
              "    </tr>\n",
              "    <tr>\n",
              "      <th>max</th>\n",
              "      <td>95.000000</td>\n",
              "      <td>102127.000000</td>\n",
              "      <td>31.000000</td>\n",
              "      <td>4918.000000</td>\n",
              "      <td>63.000000</td>\n",
              "      <td>871.000000</td>\n",
              "      <td>275.000000</td>\n",
              "    </tr>\n",
              "  </tbody>\n",
              "</table>\n",
              "</div>"
            ],
            "text/plain": [
              "                age        balance           day      duration      campaign  \\\n",
              "count  45211.000000   45211.000000  45211.000000  45211.000000  45211.000000   \n",
              "mean      40.936210    1362.272058     15.806419    258.163080      2.763841   \n",
              "std       10.618762    3044.765829      8.322476    257.527812      3.098021   \n",
              "min       18.000000   -8019.000000      1.000000      0.000000      1.000000   \n",
              "25%       33.000000      72.000000      8.000000    103.000000      1.000000   \n",
              "50%       39.000000     448.000000     16.000000    180.000000      2.000000   \n",
              "75%       48.000000    1428.000000     21.000000    319.000000      3.000000   \n",
              "max       95.000000  102127.000000     31.000000   4918.000000     63.000000   \n",
              "\n",
              "              pdays      previous  \n",
              "count  45211.000000  45211.000000  \n",
              "mean      40.197828      0.580323  \n",
              "std      100.128746      2.303441  \n",
              "min       -1.000000      0.000000  \n",
              "25%       -1.000000      0.000000  \n",
              "50%       -1.000000      0.000000  \n",
              "75%       -1.000000      0.000000  \n",
              "max      871.000000    275.000000  "
            ]
          },
          "execution_count": 4,
          "metadata": {},
          "output_type": "execute_result"
        }
      ],
      "source": [
        "df.describe()"
      ]
    },
    {
      "cell_type": "markdown",
      "id": "83d1979f-3553-4905-9898-25aea0d96297",
      "metadata": {
        "id": "83d1979f-3553-4905-9898-25aea0d96297"
      },
      "source": [
        "# 1. Data Cleansing"
      ]
    },
    {
      "cell_type": "markdown",
      "id": "c827a686-0a1f-41ad-876d-5f7cb7e0a73c",
      "metadata": {
        "id": "c827a686-0a1f-41ad-876d-5f7cb7e0a73c"
      },
      "source": [
        "## A. Handle Missing Values"
      ]
    },
    {
      "cell_type": "code",
      "execution_count": null,
      "id": "9899071d-9ec6-45d6-a89f-39c8844c8c46",
      "metadata": {
        "id": "9899071d-9ec6-45d6-a89f-39c8844c8c46",
        "outputId": "3d45a4d4-effa-45a3-8927-f4b5c7774d92"
      },
      "outputs": [
        {
          "data": {
            "text/plain": [
              "age          0\n",
              "job          0\n",
              "marital      0\n",
              "education    0\n",
              "default      0\n",
              "balance      0\n",
              "housing      0\n",
              "loan         0\n",
              "contact      0\n",
              "day          0\n",
              "month        0\n",
              "duration     0\n",
              "campaign     0\n",
              "pdays        0\n",
              "previous     0\n",
              "poutcome     0\n",
              "y            0\n",
              "dtype: int64"
            ]
          },
          "execution_count": 5,
          "metadata": {},
          "output_type": "execute_result"
        }
      ],
      "source": [
        "df.isna().sum()"
      ]
    },
    {
      "cell_type": "markdown",
      "id": "ea98c3a1-883c-44df-959e-fb2cf204f051",
      "metadata": {
        "id": "ea98c3a1-883c-44df-959e-fb2cf204f051"
      },
      "source": [
        "Karena tidak ada missing, maka tidak ada tindak lanjut"
      ]
    },
    {
      "cell_type": "markdown",
      "id": "77ba7c1f-949b-4316-88e3-763e401273bc",
      "metadata": {
        "id": "77ba7c1f-949b-4316-88e3-763e401273bc"
      },
      "source": [
        "## B. Handle Duplicated Data"
      ]
    },
    {
      "cell_type": "code",
      "execution_count": null,
      "id": "ce1e3753-cd66-4f5b-86a9-bf198797df8f",
      "metadata": {
        "id": "ce1e3753-cd66-4f5b-86a9-bf198797df8f",
        "outputId": "7c1fe71c-d511-4126-e9b3-2e5d9fc2504d"
      },
      "outputs": [
        {
          "data": {
            "text/plain": [
              "0"
            ]
          },
          "execution_count": 6,
          "metadata": {},
          "output_type": "execute_result"
        }
      ],
      "source": [
        "df.duplicated().sum()"
      ]
    },
    {
      "cell_type": "markdown",
      "id": "598fe842-7a39-40ed-86e2-4cb8a1addbc0",
      "metadata": {
        "id": "598fe842-7a39-40ed-86e2-4cb8a1addbc0"
      },
      "source": [
        "Tidak ditemukan adanya data terduplikasi"
      ]
    },
    {
      "cell_type": "markdown",
      "id": "5869c784-c90e-45af-9aa5-e91b4275dfc8",
      "metadata": {
        "id": "5869c784-c90e-45af-9aa5-e91b4275dfc8"
      },
      "source": [
        "## C. Handle Outliers"
      ]
    },
    {
      "cell_type": "code",
      "execution_count": null,
      "id": "18115ae9",
      "metadata": {
        "id": "18115ae9",
        "tags": []
      },
      "outputs": [],
      "source": [
        "# pengelompokan kolom berdasarkan jenisnya\n",
        "nums = ['age', 'balance', 'day', 'duration', 'campaign', 'pdays', 'previous']\n",
        "cats = ['job', 'marital', 'education', 'default', 'housing', 'loan', 'contact', 'month', 'poutcome', 'y']"
      ]
    },
    {
      "cell_type": "code",
      "execution_count": null,
      "id": "8ec8d8fa",
      "metadata": {
        "id": "8ec8d8fa",
        "outputId": "c98a1039-59ea-4352-a7ac-5fbf8a8f06a6"
      },
      "outputs": [
        {
          "data": {
            "image/png": "[encoded data removed]",
            "text/plain": [
              "<Figure size 720x360 with 7 Axes>"
            ]
          },
          "metadata": {
            "needs_background": "light"
          },
          "output_type": "display_data"
        }
      ],
      "source": [
        "plt.figure(figsize=(10,5))\n",
        "features = nums\n",
        "for i in range(0, len(features)):\n",
        "    plt.subplot(1, len(features), i+1)\n",
        "    sns.boxplot(y=df[features[i]], color='green', orient='v')\n",
        "    plt.tight_layout()"
      ]
    },
    {
      "cell_type": "markdown",
      "id": "aa23ed17-1ff9-4abd-88f3-e294ecdb0005",
      "metadata": {
        "id": "aa23ed17-1ff9-4abd-88f3-e294ecdb0005"
      },
      "source": [
        "### Column 'age'"
      ]
    },
    {
      "cell_type": "code",
      "execution_count": null,
      "id": "8c699d0c-5365-45e6-bf1b-a5f3589fc0af",
      "metadata": {
        "id": "8c699d0c-5365-45e6-bf1b-a5f3589fc0af",
        "outputId": "bbb5ea3e-19c8-4eea-a8d3-93ad5f446ca0"
      },
      "outputs": [
        {
          "data": {
            "text/plain": [
              "<AxesSubplot:xlabel='age', ylabel='Density'>"
            ]
          },
          "execution_count": 9,
          "metadata": {},
          "output_type": "execute_result"
        },
        {
          "data": {
            "image/png": "[encoded data removed]",
            "text/plain": [
              "<Figure size 432x288 with 1 Axes>"
            ]
          },
          "metadata": {
            "needs_background": "light"
          },
          "output_type": "display_data"
        }
      ],
      "source": [
        "sns.kdeplot(np.log(df['age']))"
      ]
    },
    {
      "cell_type": "code",
      "execution_count": null,
      "id": "1cb8478e-0599-4822-923b-e7eec6ea00b3",
      "metadata": {
        "id": "1cb8478e-0599-4822-923b-e7eec6ea00b3",
        "outputId": "16e70409-63ed-4ac9-b53a-5ceae271d13e"
      },
      "outputs": [
        {
          "name": "stdout",
          "output_type": "stream",
          "text": [
            "Jumlah baris sebelum memfilter outlier kolom age: 45211\n",
            "Jumlah baris setelah memfilter outlier kolom age dengan z-score: 44830 atau berkurang 0.84%\n"
          ]
        }
      ],
      "source": [
        "age_zscore = np.abs(stats.zscore(df['age']))\n",
        "age_filter = (age_zscore < 3)\n",
        "\n",
        "len_df = int(len(df))\n",
        "print(f'Jumlah baris sebelum memfilter outlier kolom age: {len_df}')\n",
        "df = df[age_filter]\n",
        "print(f'Jumlah baris setelah memfilter outlier kolom age dengan z-score: {len(df)} atau berkurang {round((len_df - df.shape[0])/45211*100, 2)}%')"
      ]
    },
    {
      "cell_type": "markdown",
      "id": "d79ecba1-f7b0-433c-bba3-9a9b0f28970c",
      "metadata": {
        "id": "d79ecba1-f7b0-433c-bba3-9a9b0f28970c"
      },
      "source": [
        "### Column 'balance'"
      ]
    },
    {
      "cell_type": "code",
      "execution_count": null,
      "id": "77eb8d74-d255-490b-9d03-f02227f06f89",
      "metadata": {
        "id": "77eb8d74-d255-490b-9d03-f02227f06f89",
        "outputId": "fb397c2b-b103-46f0-c2dd-b568cd1a26f8"
      },
      "outputs": [
        {
          "data": {
            "image/png": "[encoded data removed]",
            "text/plain": [
              "<Figure size 720x216 with 2 Axes>"
            ]
          },
          "metadata": {
            "needs_background": "light"
          },
          "output_type": "display_data"
        }
      ],
      "source": [
        "#keadaan awal\n",
        "plt.figure(figsize=(10,3))\n",
        "plt.subplot(1, 2, 1)\n",
        "sns.kdeplot(df['balance'])\n",
        "plt.subplot(1, 2, 2)\n",
        "sns.boxplot(df['balance'])\n",
        "plt.tight_layout()"
      ]
    },
    {
      "cell_type": "code",
      "execution_count": null,
      "id": "943edcba-6ef3-4cf8-8767-4f0d41e916c7",
      "metadata": {
        "id": "943edcba-6ef3-4cf8-8767-4f0d41e916c7",
        "outputId": "46f43f49-8405-4560-ab1f-dcceb1b8c1b9"
      },
      "outputs": [
        {
          "name": "stdout",
          "output_type": "stream",
          "text": [
            "Jumlah baris sebelum memfilter outlier kolom balance: 44830\n",
            "Jumlah baris setelah memfilter outlier kolom balance dengan IQR: 40121 atau berkurang 10.42%\n"
          ]
        }
      ],
      "source": [
        "#Menggunakan IQR karena terdapat dua puncak \n",
        "Q1 = df['balance'].quantile(0.25) \n",
        "Q3 = df['balance'].quantile(0.75)\n",
        "IQR = Q3 - Q1\n",
        "low_limit = Q1 - (1.5 * IQR)\n",
        "high_limit = Q3 + (1.5 * IQR)\n",
        "filtered_entries = ((df['balance'] >= low_limit) & (df['balance'] <= high_limit))\n",
        "\n",
        "len_df = int(len(df))\n",
        "print(f'Jumlah baris sebelum memfilter outlier kolom balance: {len_df}')\n",
        "df = df[filtered_entries]\n",
        "print(f'Jumlah baris setelah memfilter outlier kolom balance dengan IQR: {len(df)} atau berkurang {round((len_df - df.shape[0])/45211*100, 2)}%')"
      ]
    },
    {
      "cell_type": "code",
      "execution_count": null,
      "id": "3e30d7b4-f9a1-468c-9cd5-bd74b8473911",
      "metadata": {
        "id": "3e30d7b4-f9a1-468c-9cd5-bd74b8473911",
        "outputId": "846c55ac-4e6b-4e81-bfb1-cc17dd1cfe17"
      },
      "outputs": [
        {
          "data": {
            "image/png": "[encoded data removed]",
            "text/plain": [
              "<Figure size 720x216 with 2 Axes>"
            ]
          },
          "metadata": {
            "needs_background": "light"
          },
          "output_type": "display_data"
        }
      ],
      "source": [
        "#sesudah\n",
        "plt.figure(figsize=(10,3))\n",
        "plt.subplot(1, 2, 1)\n",
        "sns.kdeplot(df['balance'])\n",
        "plt.subplot(1, 2, 2)\n",
        "sns.boxplot(df['balance'])\n",
        "plt.tight_layout()"
      ]
    },
    {
      "cell_type": "markdown",
      "id": "fa60519a",
      "metadata": {
        "id": "fa60519a"
      },
      "source": [
        "### Column 'duration'"
      ]
    },
    {
      "cell_type": "code",
      "execution_count": null,
      "id": "0d69362c",
      "metadata": {
        "id": "0d69362c",
        "outputId": "aea71da7-80e8-49f1-83db-74412b9c1c2a"
      },
      "outputs": [
        {
          "data": {
            "text/plain": [
              "<AxesSubplot:xlabel='duration', ylabel='Density'>"
            ]
          },
          "execution_count": 14,
          "metadata": {},
          "output_type": "execute_result"
        },
        {
          "data": {
            "image/png": "[encoded data removed]",
            "text/plain": [
              "<Figure size 432x288 with 1 Axes>"
            ]
          },
          "metadata": {
            "needs_background": "light"
          },
          "output_type": "display_data"
        }
      ],
      "source": [
        "# distribusi duration (setelah log transformation)\n",
        "sns.kdeplot(np.log(df['duration']))"
      ]
    },
    {
      "cell_type": "code",
      "execution_count": null,
      "id": "0a_QP92-owTz",
      "metadata": {
        "id": "0a_QP92-owTz"
      },
      "outputs": [],
      "source": [
        "df['log_duration'] = np.log(df['duration'] + sys.float_info.epsilon)"
      ]
    },
    {
      "cell_type": "code",
      "execution_count": null,
      "id": "5bXNXlUcozG5",
      "metadata": {
        "id": "5bXNXlUcozG5"
      },
      "outputs": [],
      "source": [
        "df = df.drop(columns='duration')"
      ]
    },
    {
      "cell_type": "code",
      "execution_count": null,
      "id": "3d3e9451",
      "metadata": {
        "id": "3d3e9451"
      },
      "outputs": [],
      "source": [
        "nums_updated = ['age', 'balance', 'day', 'log_duration', 'campaign', 'pdays', 'previous']"
      ]
    },
    {
      "cell_type": "code",
      "execution_count": null,
      "id": "0ZVeB_3Io233",
      "metadata": {
        "colab": {
          "base_uri": "https://localhost:8080/"
        },
        "id": "0ZVeB_3Io233",
        "outputId": "1f29f9c9-3641-49f9-e328-d08037d48cef"
      },
      "outputs": [
        {
          "name": "stdout",
          "output_type": "stream",
          "text": [
            "Jumlah baris sebelum memfilter outlier kolom duration: 40121\n",
            "Jumlah baris setelah memfilter outlier kolom duration dengan z-score: 39802 atau berkurang 0.71%\n"
          ]
        }
      ],
      "source": [
        "duration_zscore = np.abs(stats.zscore(df['log_duration']))\n",
        "duration_filter = (duration_zscore < 3)\n",
        "\n",
        "len_df = int(len(df))\n",
        "print(f'Jumlah baris sebelum memfilter outlier kolom duration: {len_df}')\n",
        "df = df[duration_filter]\n",
        "print(f'Jumlah baris setelah memfilter outlier kolom duration dengan z-score: {len(df)} atau berkurang {round((len_df - df.shape[0])/45211*100, 2)}%')"
      ]
    },
    {
      "cell_type": "markdown",
      "id": "d65cda7e-0453-4bb4-adec-3275ab5320c4",
      "metadata": {
        "id": "d65cda7e-0453-4bb4-adec-3275ab5320c4",
        "tags": []
      },
      "source": [
        "### Column 'campaign'"
      ]
    },
    {
      "cell_type": "code",
      "execution_count": null,
      "id": "56ffdecf-9b14-4164-930e-c5808295dac1",
      "metadata": {
        "id": "56ffdecf-9b14-4164-930e-c5808295dac1",
        "outputId": "0e651fe2-00cf-41aa-d24e-879856211420"
      },
      "outputs": [
        {
          "data": {
            "text/plain": [
              "<AxesSubplot:xlabel='campaign', ylabel='Density'>"
            ]
          },
          "execution_count": 19,
          "metadata": {},
          "output_type": "execute_result"
        },
        {
          "data": {
            "image/png": "[encoded data removed]",
            "text/plain": [
              "<Figure size 432x288 with 1 Axes>"
            ]
          },
          "metadata": {
            "needs_background": "light"
          },
          "output_type": "display_data"
        }
      ],
      "source": [
        "sns.kdeplot(np.log(df['campaign']))"
      ]
    },
    {
      "cell_type": "code",
      "execution_count": null,
      "id": "73cac3d8-270e-4e43-b12d-9e2397fa8394",
      "metadata": {
        "id": "73cac3d8-270e-4e43-b12d-9e2397fa8394"
      },
      "outputs": [],
      "source": [
        "df['log_campaign'] = np.log(df['campaign'] + sys.float_info.epsilon)\n",
        "df = df.drop(columns = 'campaign')"
      ]
    },
    {
      "cell_type": "code",
      "execution_count": null,
      "id": "d7e345a5-7046-4870-8062-4e4d89d75959",
      "metadata": {
        "id": "d7e345a5-7046-4870-8062-4e4d89d75959",
        "outputId": "b3356031-0fc5-44df-935b-792b6fa168d9"
      },
      "outputs": [
        {
          "name": "stdout",
          "output_type": "stream",
          "text": [
            "Jumlah baris sebelum memfilter outlier kolom campaign: 39802\n",
            "Jumlah baris setelah memfilter outlier kolom campaign dengan z-score: 39477 atau berkurang 0.72%\n"
          ]
        }
      ],
      "source": [
        "len_df = int(len(df))\n",
        "print(f'Jumlah baris sebelum memfilter outlier kolom campaign: {len_df}')\n",
        "\n",
        "campaign_zscore = np.abs(stats.zscore(df['log_campaign']))\n",
        "campaign_filter = (campaign_zscore < 3)\n",
        "df = df[campaign_filter]\n",
        "\n",
        "print(f'Jumlah baris setelah memfilter outlier kolom campaign dengan z-score: {len(df)} atau berkurang {round((len_df - df.shape[0])/45211*100, 2)}%')"
      ]
    },
    {
      "cell_type": "markdown",
      "id": "66b4dca6-b861-4a02-972a-34810932121f",
      "metadata": {
        "id": "66b4dca6-b861-4a02-972a-34810932121f"
      },
      "source": [
        "## D. Feature Transformation"
      ]
    },
    {
      "cell_type": "markdown",
      "id": "fc43b955-fbeb-4de4-a783-4620457e91ef",
      "metadata": {
        "id": "fc43b955-fbeb-4de4-a783-4620457e91ef"
      },
      "source": [
        "### Normalization"
      ]
    },
    {
      "cell_type": "markdown",
      "id": "7067784c-0ee6-4d69-b295-015d1452d103",
      "metadata": {
        "id": "7067784c-0ee6-4d69-b295-015d1452d103"
      },
      "source": [
        "Tidak ada kolom yang dinormalisasi"
      ]
    },
    {
      "cell_type": "markdown",
      "id": "f6d2fe7f-d0d4-4215-b323-fdc6025495d8",
      "metadata": {
        "id": "f6d2fe7f-d0d4-4215-b323-fdc6025495d8"
      },
      "source": [
        "### Standardization"
      ]
    },
    {
      "cell_type": "markdown",
      "id": "7eada106-1bd7-43d5-8be3-cf1c32d77955",
      "metadata": {
        "id": "7eada106-1bd7-43d5-8be3-cf1c32d77955"
      },
      "source": [
        "#### Column 'age', 'duration', 'campaign'"
      ]
    },
    {
      "cell_type": "code",
      "execution_count": null,
      "id": "6a25b10a-c12b-49c1-9372-9b6ded832200",
      "metadata": {
        "id": "6a25b10a-c12b-49c1-9372-9b6ded832200"
      },
      "outputs": [],
      "source": [
        "df['age_std'] = StandardScaler().fit_transform(df['age'].values.reshape(len(df), 1))\n",
        "df['log_duration_std'] = StandardScaler().fit_transform(df['log_duration'].values.reshape(len(df), 1))\n",
        "df['log_campaign_std'] = StandardScaler().fit_transform(df['log_campaign'].values.reshape(len(df), 1))"
      ]
    },
    {
      "cell_type": "code",
      "execution_count": null,
      "id": "0dde35e6-d895-4fd2-b12c-bcbd2ff72bd1",
      "metadata": {
        "id": "0dde35e6-d895-4fd2-b12c-bcbd2ff72bd1"
      },
      "outputs": [],
      "source": [
        "df.drop(columns=['age', 'log_duration', 'log_campaign'], inplace=True)"
      ]
    },
    {
      "cell_type": "code",
      "execution_count": null,
      "id": "cd9afb30-76e1-4971-a339-80d1ba51db42",
      "metadata": {
        "id": "cd9afb30-76e1-4971-a339-80d1ba51db42",
        "outputId": "394ba699-506d-49b6-fd7b-2d1861ed8ee1"
      },
      "outputs": [
        {
          "data": {
            "text/plain": [
              "Index(['job', 'marital', 'education', 'default', 'balance', 'housing', 'loan',\n",
              "       'contact', 'day', 'month', 'pdays', 'previous', 'poutcome', 'y',\n",
              "       'age_std', 'log_duration_std', 'log_campaign_std'],\n",
              "      dtype='object')"
            ]
          },
          "execution_count": 24,
          "metadata": {},
          "output_type": "execute_result"
        }
      ],
      "source": [
        "df.columns"
      ]
    },
    {
      "cell_type": "markdown",
      "id": "472c4941-d413-4909-8fe2-529598ff1b70",
      "metadata": {
        "id": "472c4941-d413-4909-8fe2-529598ff1b70"
      },
      "source": [
        "## E. Feature Encoding"
      ]
    },
    {
      "cell_type": "markdown",
      "id": "395b94ad-d7fa-499b-9e9d-93d2cc0f4c84",
      "metadata": {
        "id": "395b94ad-d7fa-499b-9e9d-93d2cc0f4c84"
      },
      "source": [
        "### Label Encoding"
      ]
    },
    {
      "cell_type": "markdown",
      "id": "f1d4e8ea-42d8-4e0d-8cb9-57d5626d23fe",
      "metadata": {
        "id": "f1d4e8ea-42d8-4e0d-8cb9-57d5626d23fe"
      },
      "source": [
        "#### Column 'default'"
      ]
    },
    {
      "cell_type": "code",
      "execution_count": null,
      "id": "6c7c14e0-622b-4052-bff9-f25a47871d0e",
      "metadata": {
        "id": "6c7c14e0-622b-4052-bff9-f25a47871d0e"
      },
      "outputs": [],
      "source": [
        "df['default'] = df['default'].map({'yes': 1, 'no': 0})"
      ]
    },
    {
      "cell_type": "markdown",
      "id": "8328a347-b6b5-41b4-955d-f749df1bf42c",
      "metadata": {
        "id": "8328a347-b6b5-41b4-955d-f749df1bf42c"
      },
      "source": [
        "#### Column 'loan'"
      ]
    },
    {
      "cell_type": "code",
      "execution_count": null,
      "id": "5717d745-3d9f-43ee-beeb-ae8cf8017e5b",
      "metadata": {
        "id": "5717d745-3d9f-43ee-beeb-ae8cf8017e5b"
      },
      "outputs": [],
      "source": [
        "df['loan'] = df['loan'].map({'yes': 1, 'no': 0})"
      ]
    },
    {
      "cell_type": "markdown",
      "id": "b973deaa-0a1f-4dd8-9786-faba71a093c5",
      "metadata": {
        "id": "b973deaa-0a1f-4dd8-9786-faba71a093c5"
      },
      "source": [
        "#### Column 'housing'"
      ]
    },
    {
      "cell_type": "code",
      "execution_count": null,
      "id": "174d3940-5ea8-4bc7-b255-4df360a81a62",
      "metadata": {
        "id": "174d3940-5ea8-4bc7-b255-4df360a81a62"
      },
      "outputs": [],
      "source": [
        "df['housing'] = df['housing'].map({'yes': 1, 'no': 0})"
      ]
    },
    {
      "cell_type": "markdown",
      "id": "92856b87-f9cc-45d8-bafc-dc072967db50",
      "metadata": {
        "id": "92856b87-f9cc-45d8-bafc-dc072967db50"
      },
      "source": [
        "#### Column 'education'"
      ]
    },
    {
      "cell_type": "code",
      "execution_count": null,
      "id": "c11132a1-7f3b-4e5e-9f9d-c9d2d3561c4e",
      "metadata": {
        "id": "c11132a1-7f3b-4e5e-9f9d-c9d2d3561c4e"
      },
      "outputs": [],
      "source": [
        "mapping_education = {\n",
        "    'unknown' : 0,\n",
        "    'primary' : 1,\n",
        "    'secondary' : 2,\n",
        "    'tertiary' : 3\n",
        "}\n",
        "df['education'] = df['education'].map(mapping_education)"
      ]
    },
    {
      "cell_type": "markdown",
      "id": "fdca738f",
      "metadata": {
        "tags": [],
        "id": "fdca738f"
      },
      "source": [
        "#### Column 'month'"
      ]
    },
    {
      "cell_type": "code",
      "execution_count": null,
      "id": "24b5c5e2",
      "metadata": {
        "id": "24b5c5e2"
      },
      "outputs": [],
      "source": [
        "mapping_month = {\n",
        "    'jan' : 0,\n",
        "    'feb' : 1,\n",
        "    'mar' : 2,\n",
        "    'apr' : 3,\n",
        "    'may' : 4,\n",
        "    'jun' : 5,\n",
        "    'jul' : 6,\n",
        "    'aug' : 7,\n",
        "    'sep' : 8,\n",
        "    'oct' : 9,\n",
        "    'nov' : 10,\n",
        "    'dec' : 11\n",
        "}\n",
        "df['month'] = df['month'].map(mapping_month)"
      ]
    },
    {
      "cell_type": "markdown",
      "id": "97474145-d954-4b9d-b17a-5283b98d8c2e",
      "metadata": {
        "id": "97474145-d954-4b9d-b17a-5283b98d8c2e"
      },
      "source": [
        "#### Column 'y'"
      ]
    },
    {
      "cell_type": "code",
      "execution_count": null,
      "id": "eecdf3fb",
      "metadata": {
        "id": "eecdf3fb"
      },
      "outputs": [],
      "source": [
        "df['y'] = df['y'].map({'yes': 1, 'no': 0})"
      ]
    },
    {
      "cell_type": "markdown",
      "id": "0dd1d18c-eec8-4493-bb93-1e9bba00bf4f",
      "metadata": {
        "id": "0dd1d18c-eec8-4493-bb93-1e9bba00bf4f",
        "tags": []
      },
      "source": [
        "### OHE"
      ]
    },
    {
      "cell_type": "markdown",
      "id": "e6b912b7-1fda-4a0a-bf4a-377b6b76b2ff",
      "metadata": {
        "id": "e6b912b7-1fda-4a0a-bf4a-377b6b76b2ff"
      },
      "source": [
        "#### Column 'job', 'marital', 'contact', 'poutcome'"
      ]
    },
    {
      "cell_type": "code",
      "execution_count": null,
      "id": "5b8c422b-a45e-4234-8c78-fbccd4825e42",
      "metadata": {
        "id": "5b8c422b-a45e-4234-8c78-fbccd4825e42"
      },
      "outputs": [],
      "source": [
        "for cats in ['job', 'marital', 'contact', 'poutcome']:\n",
        "    onehots = pd.get_dummies(df[cats], prefix=cats)\n",
        "    df = df.join(onehots)"
      ]
    },
    {
      "cell_type": "code",
      "execution_count": null,
      "id": "0be68487-647a-428c-81a6-a2d9bc768bf3",
      "metadata": {
        "id": "0be68487-647a-428c-81a6-a2d9bc768bf3"
      },
      "outputs": [],
      "source": [
        "df = df.drop(columns=['job', 'marital', 'contact', 'poutcome'])"
      ]
    },
    {
      "cell_type": "code",
      "execution_count": null,
      "id": "86ceccfc-f6ca-4347-9186-b921c7de8657",
      "metadata": {
        "id": "86ceccfc-f6ca-4347-9186-b921c7de8657",
        "outputId": "b72b5249-7189-45a7-e284-2784ea777fbd"
      },
      "outputs": [
        {
          "data": {
            "text/html": [
              "<div>\n",
              "<style scoped>\n",
              "    .dataframe tbody tr th:only-of-type {\n",
              "        vertical-align: middle;\n",
              "    }\n",
              "\n",
              "    .dataframe tbody tr th {\n",
              "        vertical-align: top;\n",
              "    }\n",
              "\n",
              "    .dataframe thead th {\n",
              "        text-align: right;\n",
              "    }\n",
              "</style>\n",
              "<table border=\"1\" class=\"dataframe\">\n",
              "  <thead>\n",
              "    <tr style=\"text-align: right;\">\n",
              "      <th></th>\n",
              "      <th>education</th>\n",
              "      <th>default</th>\n",
              "      <th>balance</th>\n",
              "      <th>housing</th>\n",
              "      <th>loan</th>\n",
              "      <th>day</th>\n",
              "      <th>month</th>\n",
              "      <th>pdays</th>\n",
              "      <th>previous</th>\n",
              "      <th>y</th>\n",
              "      <th>...</th>\n",
              "      <th>marital_divorced</th>\n",
              "      <th>marital_married</th>\n",
              "      <th>marital_single</th>\n",
              "      <th>contact_cellular</th>\n",
              "      <th>contact_telephone</th>\n",
              "      <th>contact_unknown</th>\n",
              "      <th>poutcome_failure</th>\n",
              "      <th>poutcome_other</th>\n",
              "      <th>poutcome_success</th>\n",
              "      <th>poutcome_unknown</th>\n",
              "    </tr>\n",
              "  </thead>\n",
              "  <tbody>\n",
              "    <tr>\n",
              "      <th>0</th>\n",
              "      <td>3</td>\n",
              "      <td>0</td>\n",
              "      <td>2143</td>\n",
              "      <td>1</td>\n",
              "      <td>0</td>\n",
              "      <td>5</td>\n",
              "      <td>4</td>\n",
              "      <td>-1</td>\n",
              "      <td>0</td>\n",
              "      <td>0</td>\n",
              "      <td>...</td>\n",
              "      <td>0</td>\n",
              "      <td>1</td>\n",
              "      <td>0</td>\n",
              "      <td>0</td>\n",
              "      <td>0</td>\n",
              "      <td>1</td>\n",
              "      <td>0</td>\n",
              "      <td>0</td>\n",
              "      <td>0</td>\n",
              "      <td>1</td>\n",
              "    </tr>\n",
              "    <tr>\n",
              "      <th>1</th>\n",
              "      <td>2</td>\n",
              "      <td>0</td>\n",
              "      <td>29</td>\n",
              "      <td>1</td>\n",
              "      <td>0</td>\n",
              "      <td>5</td>\n",
              "      <td>4</td>\n",
              "      <td>-1</td>\n",
              "      <td>0</td>\n",
              "      <td>0</td>\n",
              "      <td>...</td>\n",
              "      <td>0</td>\n",
              "      <td>0</td>\n",
              "      <td>1</td>\n",
              "      <td>0</td>\n",
              "      <td>0</td>\n",
              "      <td>1</td>\n",
              "      <td>0</td>\n",
              "      <td>0</td>\n",
              "      <td>0</td>\n",
              "      <td>1</td>\n",
              "    </tr>\n",
              "    <tr>\n",
              "      <th>2</th>\n",
              "      <td>2</td>\n",
              "      <td>0</td>\n",
              "      <td>2</td>\n",
              "      <td>1</td>\n",
              "      <td>1</td>\n",
              "      <td>5</td>\n",
              "      <td>4</td>\n",
              "      <td>-1</td>\n",
              "      <td>0</td>\n",
              "      <td>0</td>\n",
              "      <td>...</td>\n",
              "      <td>0</td>\n",
              "      <td>1</td>\n",
              "      <td>0</td>\n",
              "      <td>0</td>\n",
              "      <td>0</td>\n",
              "      <td>1</td>\n",
              "      <td>0</td>\n",
              "      <td>0</td>\n",
              "      <td>0</td>\n",
              "      <td>1</td>\n",
              "    </tr>\n",
              "    <tr>\n",
              "      <th>3</th>\n",
              "      <td>0</td>\n",
              "      <td>0</td>\n",
              "      <td>1506</td>\n",
              "      <td>1</td>\n",
              "      <td>0</td>\n",
              "      <td>5</td>\n",
              "      <td>4</td>\n",
              "      <td>-1</td>\n",
              "      <td>0</td>\n",
              "      <td>0</td>\n",
              "      <td>...</td>\n",
              "      <td>0</td>\n",
              "      <td>1</td>\n",
              "      <td>0</td>\n",
              "      <td>0</td>\n",
              "      <td>0</td>\n",
              "      <td>1</td>\n",
              "      <td>0</td>\n",
              "      <td>0</td>\n",
              "      <td>0</td>\n",
              "      <td>1</td>\n",
              "    </tr>\n",
              "    <tr>\n",
              "      <th>4</th>\n",
              "      <td>0</td>\n",
              "      <td>0</td>\n",
              "      <td>1</td>\n",
              "      <td>0</td>\n",
              "      <td>0</td>\n",
              "      <td>5</td>\n",
              "      <td>4</td>\n",
              "      <td>-1</td>\n",
              "      <td>0</td>\n",
              "      <td>0</td>\n",
              "      <td>...</td>\n",
              "      <td>0</td>\n",
              "      <td>0</td>\n",
              "      <td>1</td>\n",
              "      <td>0</td>\n",
              "      <td>0</td>\n",
              "      <td>1</td>\n",
              "      <td>0</td>\n",
              "      <td>0</td>\n",
              "      <td>0</td>\n",
              "      <td>1</td>\n",
              "    </tr>\n",
              "  </tbody>\n",
              "</table>\n",
              "<p>5 rows × 35 columns</p>\n",
              "</div>"
            ],
            "text/plain": [
              "   education  default  balance  housing  loan  day  month  pdays  previous  y  \\\n",
              "0          3        0     2143        1     0    5      4     -1         0  0   \n",
              "1          2        0       29        1     0    5      4     -1         0  0   \n",
              "2          2        0        2        1     1    5      4     -1         0  0   \n",
              "3          0        0     1506        1     0    5      4     -1         0  0   \n",
              "4          0        0        1        0     0    5      4     -1         0  0   \n",
              "\n",
              "   ...  marital_divorced  marital_married  marital_single  contact_cellular  \\\n",
              "0  ...                 0                1               0                 0   \n",
              "1  ...                 0                0               1                 0   \n",
              "2  ...                 0                1               0                 0   \n",
              "3  ...                 0                1               0                 0   \n",
              "4  ...                 0                0               1                 0   \n",
              "\n",
              "   contact_telephone  contact_unknown  poutcome_failure  poutcome_other  \\\n",
              "0                  0                1                 0               0   \n",
              "1                  0                1                 0               0   \n",
              "2                  0                1                 0               0   \n",
              "3                  0                1                 0               0   \n",
              "4                  0                1                 0               0   \n",
              "\n",
              "   poutcome_success  poutcome_unknown  \n",
              "0                 0                 1  \n",
              "1                 0                 1  \n",
              "2                 0                 1  \n",
              "3                 0                 1  \n",
              "4                 0                 1  \n",
              "\n",
              "[5 rows x 35 columns]"
            ]
          },
          "execution_count": 33,
          "metadata": {},
          "output_type": "execute_result"
        }
      ],
      "source": [
        "df.head()"
      ]
    },
    {
      "cell_type": "markdown",
      "id": "30807c77-5203-457c-b9f0-4f85b5d84842",
      "metadata": {
        "id": "30807c77-5203-457c-b9f0-4f85b5d84842",
        "tags": []
      },
      "source": [
        "## F. Handle class imbalance"
      ]
    },
    {
      "cell_type": "code",
      "execution_count": null,
      "id": "e6b8344e-e33f-4be0-ab18-825de597a1ba",
      "metadata": {
        "id": "e6b8344e-e33f-4be0-ab18-825de597a1ba",
        "outputId": "07055855-9dc9-4f67-cf18-2d66f6cbdbf5"
      },
      "outputs": [
        {
          "name": "stdout",
          "output_type": "stream",
          "text": [
            "(39477, 34)\n",
            "(39477,)\n"
          ]
        }
      ],
      "source": [
        "X = df[[col for col in df.columns if (str(df[col].dtype) != 'object') and col not in ['y']]]\n",
        "y = df['y'].values\n",
        "print(X.shape)\n",
        "print(y.shape)"
      ]
    },
    {
      "cell_type": "code",
      "execution_count": null,
      "id": "8fd7aad0-3486-4f97-b566-32b25c340a3b",
      "metadata": {
        "id": "8fd7aad0-3486-4f97-b566-32b25c340a3b"
      },
      "outputs": [],
      "source": [
        "X_over_SMOTE, y_over_SMOTE = over_sampling.SMOTE(0.5).fit_resample(X, y)"
      ]
    },
    {
      "cell_type": "code",
      "execution_count": null,
      "id": "62dbba0f-d4db-4c78-a857-052b356e5cd7",
      "metadata": {
        "colab": {
          "base_uri": "https://localhost:8080/",
          "height": 200
        },
        "id": "62dbba0f-d4db-4c78-a857-052b356e5cd7",
        "outputId": "7fc5712a-448f-4014-a721-f206e6b1bc7b"
      },
      "outputs": [
        {
          "name": "stdout",
          "output_type": "stream",
          "text": [
            "SMOTE\n",
            "0    35100\n",
            "1    17550\n",
            "dtype: int64\n"
          ]
        }
      ],
      "source": [
        "print('SMOTE')\n",
        "print(pd.Series(y_over_SMOTE).value_counts())"
      ]
    },
    {
      "cell_type": "markdown",
      "id": "3c726f33-80dc-4db7-8099-8d0db1168526",
      "metadata": {
        "id": "3c726f33-80dc-4db7-8099-8d0db1168526",
        "tags": []
      },
      "source": [
        "# 2. Feature Engineering"
      ]
    },
    {
      "cell_type": "markdown",
      "id": "7e77ce95-bcf1-48c3-8b65-75e1aa852a8f",
      "metadata": {
        "id": "7e77ce95-bcf1-48c3-8b65-75e1aa852a8f",
        "tags": []
      },
      "source": [
        "## Feature Selection"
      ]
    },
    {
      "cell_type": "markdown",
      "id": "5c9be473",
      "metadata": {
        "id": "5c9be473"
      },
      "source": [
        "### Column 'pdays'"
      ]
    },
    {
      "cell_type": "code",
      "execution_count": null,
      "id": "d573e368-2173-4ad1-9eeb-cb6ce108967b",
      "metadata": {
        "id": "d573e368-2173-4ad1-9eeb-cb6ce108967b",
        "outputId": "389c2c38-0c9e-4879-a49f-341b10d5beb4"
      },
      "outputs": [
        {
          "data": {
            "text/plain": [
              "<AxesSubplot:xlabel='pdays', ylabel='Density'>"
            ]
          },
          "execution_count": 37,
          "metadata": {},
          "output_type": "execute_result"
        },
        {
          "data": {
            "image/png": "[encoded data removed]",
            "text/plain": [
              "<Figure size 432x288 with 1 Axes>"
            ]
          },
          "metadata": {
            "needs_background": "light"
          },
          "output_type": "display_data"
        }
      ],
      "source": [
        "sns.kdeplot(df['pdays'])"
      ]
    },
    {
      "cell_type": "markdown",
      "id": "1bd82aa8-483e-441a-8fe2-4909ad82c9f4",
      "metadata": {
        "id": "1bd82aa8-483e-441a-8fe2-4909ad82c9f4"
      },
      "source": [
        "Karena mayoritas belum pernah dikontak, maka kolom pdays tidak akan relevan terhadap model.\n",
        "Jika data bernilai -1 saja yang di-drop, maka persentase data yang hilang melebihi 75%, sehingga kolom pdays di-drop."
      ]
    },
    {
      "cell_type": "markdown",
      "id": "bdb5915d-22d1-412f-973a-c7e7bf13e9ad",
      "metadata": {
        "id": "bdb5915d-22d1-412f-973a-c7e7bf13e9ad"
      },
      "source": [
        "### Column 'previous'"
      ]
    },
    {
      "cell_type": "code",
      "execution_count": null,
      "id": "3ab39c40-8f04-4e15-92ef-2474c8daf242",
      "metadata": {
        "id": "3ab39c40-8f04-4e15-92ef-2474c8daf242",
        "outputId": "a224e4bc-1ed0-4360-8669-1d54e5549d55"
      },
      "outputs": [
        {
          "data": {
            "text/plain": [
              "<AxesSubplot:xlabel='previous', ylabel='Density'>"
            ]
          },
          "execution_count": 38,
          "metadata": {},
          "output_type": "execute_result"
        },
        {
          "data": {
            "image/png": "[encoded data removed]",
            "text/plain": [
              "<Figure size 432x288 with 1 Axes>"
            ]
          },
          "metadata": {
            "needs_background": "light"
          },
          "output_type": "display_data"
        }
      ],
      "source": [
        "sns.kdeplot(df['previous'])"
      ]
    },
    {
      "cell_type": "markdown",
      "id": "4b8f5395-aa28-4bfd-b225-e2c27623079b",
      "metadata": {
        "id": "4b8f5395-aa28-4bfd-b225-e2c27623079b"
      },
      "source": [
        "Sama seperti pdays bahwa mayoritas belum pernah dikontak, sehingga tidak akan relevan terhadap model.\n",
        "Jika data bernilai 0 saja yang di-drop, maka persentase data yang hilang melebihi 75%, sehingga kolom previous di-drop"
      ]
    },
    {
      "cell_type": "markdown",
      "id": "3682e6f5-7f09-49fb-8021-d4ef98e6e3ee",
      "metadata": {
        "id": "3682e6f5-7f09-49fb-8021-d4ef98e6e3ee",
        "tags": []
      },
      "source": [
        "## Feature Extraction"
      ]
    },
    {
      "cell_type": "markdown",
      "id": "de999d4d-64a1-4e24-899a-1708a9651a05",
      "metadata": {
        "id": "de999d4d-64a1-4e24-899a-1708a9651a05"
      },
      "source": [
        "Tidak ada feature yang bisa di-extract"
      ]
    },
    {
      "cell_type": "markdown",
      "id": "017eec84-cabf-47e6-967c-03d072978f65",
      "metadata": {
        "id": "017eec84-cabf-47e6-967c-03d072978f65"
      },
      "source": [
        "## 4 Feature Tambahan"
      ]
    },
    {
      "cell_type": "markdown",
      "id": "0950cd6f-892f-4aed-a799-e76434158149",
      "metadata": {
        "id": "0950cd6f-892f-4aed-a799-e76434158149"
      },
      "source": [
        "- Rata-rata saldo per bulan\n",
        "- Kota tempat tinggal\n",
        "- Penghasilan tahunan\n",
        "- Credit score"
      ]
    }
  ],
  "metadata": {
    "colab": {
      "name": "Stage 2 - Source Code - Fantastic Four.ipynb",
      "provenance": [],
      "include_colab_link": true
    },
    "kernelspec": {
      "display_name": "Python 3 (ipykernel)",
      "language": "python",
      "name": "python3"
    },
    "language_info": {
      "codemirror_mode": {
        "name": "ipython",
        "version": 3
      },
      "file_extension": ".py",
      "mimetype": "text/x-python",
      "name": "python",
      "nbconvert_exporter": "python",
      "pygments_lexer": "ipython3",
      "version": "3.9.7"
    },
    "toc-showmarkdowntxt": false
  },
  "nbformat": 4,
  "nbformat_minor": 5
}